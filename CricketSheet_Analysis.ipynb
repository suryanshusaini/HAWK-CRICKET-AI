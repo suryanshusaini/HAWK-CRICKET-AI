{
 "cells": [
  {
   "cell_type": "markdown",
   "id": "8061dc4b",
   "metadata": {},
   "source": [
    "TEST Match Data"
   ]
  },
  {
   "cell_type": "code",
   "execution_count": 15,
   "id": "f3ec2358",
   "metadata": {},
   "outputs": [
    {
     "name": "stdout",
     "output_type": "stream",
     "text": [
      "    city        date                             event_name match_type  \\\n",
      "0  Perth  2016-11-03  South Africa in Australia Test Series       Test   \n",
      "1  Perth  2016-11-03  South Africa in Australia Test Series       Test   \n",
      "2  Perth  2016-11-03  South Africa in Australia Test Series       Test   \n",
      "3  Perth  2016-11-03  South Africa in Australia Test Series       Test   \n",
      "4  Perth  2016-11-03  South Africa in Australia Test Series       Test   \n",
      "\n",
      "         result player_of_match          team  over   batter    bowler  \\\n",
      "0  South Africa        K Rabada  South Africa     0  SC Cook  MA Starc   \n",
      "1  South Africa        K Rabada  South Africa     0  SC Cook  MA Starc   \n",
      "2  South Africa        K Rabada  South Africa     0  SC Cook  MA Starc   \n",
      "3  South Africa        K Rabada  South Africa     0  SC Cook  MA Starc   \n",
      "4  South Africa        K Rabada  South Africa     0  HM Amla  MA Starc   \n",
      "\n",
      "  non_striker  runs_batter  runs_extras  runs_total  \n",
      "0     D Elgar            0            0           0  \n",
      "1     D Elgar            0            0           0  \n",
      "2     D Elgar            0            0           0  \n",
      "3     D Elgar            0            0           0  \n",
      "4     D Elgar            0            0           0  \n"
     ]
    }
   ],
   "source": [
    "import os\n",
    "import json\n",
    "import pandas as pd\n",
    "\n",
    "json_dir =r\"C:\\Users\\MOHAMED RAZIK\\Desktop\\My_code\\CricSheet\\tests_male_json\"\n",
    "\n",
    "json_files = [f for f in os.listdir(json_dir) if f.endswith('.json')]\n",
    "\n",
    "all_deliveries = []\n",
    "\n",
    "for json_file in json_files:\n",
    "    file_path = os.path.join(json_dir, json_file)\n",
    "    with open(file_path, 'r') as f:\n",
    "        data = json.load(f)\n",
    "        \n",
    "        \n",
    "        city = data['info'].get('city', 'Unknown')\n",
    "        dates = data['info']['dates'][0] \n",
    "        event_name = data['info'].get('event', {}).get('name', 'Unknown')\n",
    "        match_type = data['info']['match_type']\n",
    "        if 'result' in data['info']['outcome']:\n",
    "            result = data['info']['outcome']['result']\n",
    "        elif 'winner' in data['info']['outcome']:\n",
    "            result = data['info']['outcome']['winner']\n",
    "        \n",
    "        player_of_match = data['info'].get('player_of_match', ['Unknown'])[0]  \n",
    "        \n",
    "        \n",
    "        if 'innings' in data:\n",
    "            for inning in data['innings']:\n",
    "                team_name = inning['team']\n",
    "                if 'overs' in inning:\n",
    "                    for over_data in inning['overs']:\n",
    "                        over_number = over_data['over']\n",
    "                        if 'deliveries' in over_data:\n",
    "                            for delivery in over_data['deliveries']:\n",
    "                                batter = delivery['batter']\n",
    "                                bowler = delivery['bowler']\n",
    "                                non_striker = delivery['non_striker']\n",
    "                                runs_batter = delivery['runs']['batter']\n",
    "                                runs_extras = delivery['runs']['extras']\n",
    "                                runs_total = delivery['runs']['total']\n",
    "                                \n",
    "                                \n",
    "                                all_deliveries.append({\n",
    "                                    'city': city,\n",
    "                                    'date': dates,\n",
    "                                    'event_name': event_name,\n",
    "                                    'match_type': match_type,\n",
    "                                    'result': result,\n",
    "                                    'player_of_match': player_of_match,\n",
    "                                    'team': team_name,\n",
    "                                    'over': over_number,\n",
    "                                    'batter': batter,\n",
    "                                    'bowler': bowler,\n",
    "                                    'non_striker': non_striker,\n",
    "                                    'runs_batter': runs_batter,\n",
    "                                    'runs_extras': runs_extras,\n",
    "                                    'runs_total': runs_total\n",
    "                                })\n",
    "\n",
    "\n",
    "df = pd.DataFrame(all_deliveries)\n",
    "\n",
    "\n",
    "print(df.head())\n",
    "\n"
   ]
  },
  {
   "cell_type": "code",
   "execution_count": 8,
   "id": "93a212ce",
   "metadata": {},
   "outputs": [
    {
     "data": {
      "text/html": [
       "<div>\n",
       "<style scoped>\n",
       "    .dataframe tbody tr th:only-of-type {\n",
       "        vertical-align: middle;\n",
       "    }\n",
       "\n",
       "    .dataframe tbody tr th {\n",
       "        vertical-align: top;\n",
       "    }\n",
       "\n",
       "    .dataframe thead th {\n",
       "        text-align: right;\n",
       "    }\n",
       "</style>\n",
       "<table border=\"1\" class=\"dataframe\">\n",
       "  <thead>\n",
       "    <tr style=\"text-align: right;\">\n",
       "      <th></th>\n",
       "      <th>city</th>\n",
       "      <th>date</th>\n",
       "      <th>event_name</th>\n",
       "      <th>match_type</th>\n",
       "      <th>result</th>\n",
       "      <th>player_of_match</th>\n",
       "      <th>team</th>\n",
       "      <th>over</th>\n",
       "      <th>batter</th>\n",
       "      <th>bowler</th>\n",
       "      <th>non_striker</th>\n",
       "      <th>runs_batter</th>\n",
       "      <th>runs_extras</th>\n",
       "      <th>runs_total</th>\n",
       "    </tr>\n",
       "  </thead>\n",
       "  <tbody>\n",
       "    <tr>\n",
       "      <th>0</th>\n",
       "      <td>Perth</td>\n",
       "      <td>2016-11-03</td>\n",
       "      <td>South Africa in Australia Test Series</td>\n",
       "      <td>Test</td>\n",
       "      <td>South Africa</td>\n",
       "      <td>K Rabada</td>\n",
       "      <td>South Africa</td>\n",
       "      <td>0</td>\n",
       "      <td>SC Cook</td>\n",
       "      <td>MA Starc</td>\n",
       "      <td>D Elgar</td>\n",
       "      <td>0</td>\n",
       "      <td>0</td>\n",
       "      <td>0</td>\n",
       "    </tr>\n",
       "    <tr>\n",
       "      <th>1</th>\n",
       "      <td>Perth</td>\n",
       "      <td>2016-11-03</td>\n",
       "      <td>South Africa in Australia Test Series</td>\n",
       "      <td>Test</td>\n",
       "      <td>South Africa</td>\n",
       "      <td>K Rabada</td>\n",
       "      <td>South Africa</td>\n",
       "      <td>0</td>\n",
       "      <td>SC Cook</td>\n",
       "      <td>MA Starc</td>\n",
       "      <td>D Elgar</td>\n",
       "      <td>0</td>\n",
       "      <td>0</td>\n",
       "      <td>0</td>\n",
       "    </tr>\n",
       "    <tr>\n",
       "      <th>2</th>\n",
       "      <td>Perth</td>\n",
       "      <td>2016-11-03</td>\n",
       "      <td>South Africa in Australia Test Series</td>\n",
       "      <td>Test</td>\n",
       "      <td>South Africa</td>\n",
       "      <td>K Rabada</td>\n",
       "      <td>South Africa</td>\n",
       "      <td>0</td>\n",
       "      <td>SC Cook</td>\n",
       "      <td>MA Starc</td>\n",
       "      <td>D Elgar</td>\n",
       "      <td>0</td>\n",
       "      <td>0</td>\n",
       "      <td>0</td>\n",
       "    </tr>\n",
       "    <tr>\n",
       "      <th>3</th>\n",
       "      <td>Perth</td>\n",
       "      <td>2016-11-03</td>\n",
       "      <td>South Africa in Australia Test Series</td>\n",
       "      <td>Test</td>\n",
       "      <td>South Africa</td>\n",
       "      <td>K Rabada</td>\n",
       "      <td>South Africa</td>\n",
       "      <td>0</td>\n",
       "      <td>SC Cook</td>\n",
       "      <td>MA Starc</td>\n",
       "      <td>D Elgar</td>\n",
       "      <td>0</td>\n",
       "      <td>0</td>\n",
       "      <td>0</td>\n",
       "    </tr>\n",
       "    <tr>\n",
       "      <th>4</th>\n",
       "      <td>Perth</td>\n",
       "      <td>2016-11-03</td>\n",
       "      <td>South Africa in Australia Test Series</td>\n",
       "      <td>Test</td>\n",
       "      <td>South Africa</td>\n",
       "      <td>K Rabada</td>\n",
       "      <td>South Africa</td>\n",
       "      <td>0</td>\n",
       "      <td>HM Amla</td>\n",
       "      <td>MA Starc</td>\n",
       "      <td>D Elgar</td>\n",
       "      <td>0</td>\n",
       "      <td>0</td>\n",
       "      <td>0</td>\n",
       "    </tr>\n",
       "  </tbody>\n",
       "</table>\n",
       "</div>"
      ],
      "text/plain": [
       "    city        date                             event_name match_type  \\\n",
       "0  Perth  2016-11-03  South Africa in Australia Test Series       Test   \n",
       "1  Perth  2016-11-03  South Africa in Australia Test Series       Test   \n",
       "2  Perth  2016-11-03  South Africa in Australia Test Series       Test   \n",
       "3  Perth  2016-11-03  South Africa in Australia Test Series       Test   \n",
       "4  Perth  2016-11-03  South Africa in Australia Test Series       Test   \n",
       "\n",
       "         result player_of_match          team  over   batter    bowler  \\\n",
       "0  South Africa        K Rabada  South Africa     0  SC Cook  MA Starc   \n",
       "1  South Africa        K Rabada  South Africa     0  SC Cook  MA Starc   \n",
       "2  South Africa        K Rabada  South Africa     0  SC Cook  MA Starc   \n",
       "3  South Africa        K Rabada  South Africa     0  SC Cook  MA Starc   \n",
       "4  South Africa        K Rabada  South Africa     0  HM Amla  MA Starc   \n",
       "\n",
       "  non_striker  runs_batter  runs_extras  runs_total  \n",
       "0     D Elgar            0            0           0  \n",
       "1     D Elgar            0            0           0  \n",
       "2     D Elgar            0            0           0  \n",
       "3     D Elgar            0            0           0  \n",
       "4     D Elgar            0            0           0  "
      ]
     },
     "execution_count": 8,
     "metadata": {},
     "output_type": "execute_result"
    }
   ],
   "source": [
    "df.head()"
   ]
  },
  {
   "cell_type": "code",
   "execution_count": 9,
   "id": "507375a1",
   "metadata": {},
   "outputs": [
    {
     "data": {
      "text/plain": [
       "city               0\n",
       "date               0\n",
       "event_name         0\n",
       "match_type         0\n",
       "result             0\n",
       "player_of_match    0\n",
       "team               0\n",
       "over               0\n",
       "batter             0\n",
       "bowler             0\n",
       "non_striker        0\n",
       "runs_batter        0\n",
       "runs_extras        0\n",
       "runs_total         0\n",
       "dtype: int64"
      ]
     },
     "execution_count": 9,
     "metadata": {},
     "output_type": "execute_result"
    }
   ],
   "source": [
    "df.isnull().sum()"
   ]
  },
  {
   "cell_type": "code",
   "execution_count": 10,
   "id": "e5b283ca",
   "metadata": {},
   "outputs": [],
   "source": [
    "df.to_csv(\"cricket_data_test.csv\", index= False)"
   ]
  },
  {
   "cell_type": "code",
   "execution_count": 13,
   "id": "7a63e90f",
   "metadata": {},
   "outputs": [
    {
     "name": "stdout",
     "output_type": "stream",
     "text": [
      "Table created successfully\n"
     ]
    }
   ],
   "source": [
    "import mysql.connector\n",
    "\n",
    "mydb = mysql.connector.connect(\n",
    "    host=\"localhost\",\n",
    "    user=\"root\",    \n",
    "    password=\"Mysql@4321\",\n",
    "    database=\"cricket_db\"\n",
    ")\n",
    "\n",
    "mycursor = mydb.cursor()\n",
    "\n",
    "create_table_query = \"\"\"\n",
    "CREATE TABLE IF NOT EXISTS tests (\n",
    "    id INT AUTO_INCREMENT PRIMARY KEY,\n",
    "    city VARCHAR(255),\n",
    "    date DATE,\n",
    "    event_name VARCHAR(255),\n",
    "    match_type VARCHAR(255),\n",
    "    result VARCHAR(255),\n",
    "    player_of_match VARCHAR(255),\n",
    "    team VARCHAR(255),\n",
    "    `over` INT,\n",
    "    batter VARCHAR(255),\n",
    "    bowler VARCHAR(255),\n",
    "    non_striker VARCHAR(255),\n",
    "    runs_batter INT,\n",
    "    runs_extras INT,\n",
    "    runs_total INT\n",
    ")\n",
    "\"\"\"\n",
    "\n",
    "mycursor.execute(create_table_query)\n",
    "mydb.commit()\n",
    "print(\"Table created successfully\")"
   ]
  },
  {
   "cell_type": "code",
   "execution_count": 16,
   "id": "df7b4fb5",
   "metadata": {},
   "outputs": [
    {
     "name": "stdout",
     "output_type": "stream",
     "text": [
      "Starting insertion of 1628701 rows in batches of 5000...\n",
      "✅ Inserted batch 1 (5000 rows)\n",
      "✅ Inserted batch 2 (5000 rows)\n",
      "✅ Inserted batch 3 (5000 rows)\n",
      "✅ Inserted batch 4 (5000 rows)\n",
      "✅ Inserted batch 5 (5000 rows)\n",
      "✅ Inserted batch 6 (5000 rows)\n",
      "✅ Inserted batch 7 (5000 rows)\n",
      "✅ Inserted batch 8 (5000 rows)\n",
      "✅ Inserted batch 9 (5000 rows)\n",
      "✅ Inserted batch 10 (5000 rows)\n",
      "✅ Inserted batch 11 (5000 rows)\n",
      "✅ Inserted batch 12 (5000 rows)\n",
      "✅ Inserted batch 13 (5000 rows)\n",
      "✅ Inserted batch 14 (5000 rows)\n",
      "✅ Inserted batch 15 (5000 rows)\n",
      "✅ Inserted batch 16 (5000 rows)\n",
      "✅ Inserted batch 17 (5000 rows)\n",
      "✅ Inserted batch 18 (5000 rows)\n",
      "✅ Inserted batch 19 (5000 rows)\n",
      "✅ Inserted batch 20 (5000 rows)\n",
      "✅ Inserted batch 21 (5000 rows)\n",
      "✅ Inserted batch 22 (5000 rows)\n",
      "✅ Inserted batch 23 (5000 rows)\n",
      "✅ Inserted batch 24 (5000 rows)\n",
      "✅ Inserted batch 25 (5000 rows)\n",
      "✅ Inserted batch 26 (5000 rows)\n",
      "✅ Inserted batch 27 (5000 rows)\n",
      "✅ Inserted batch 28 (5000 rows)\n",
      "✅ Inserted batch 29 (5000 rows)\n",
      "✅ Inserted batch 30 (5000 rows)\n",
      "✅ Inserted batch 31 (5000 rows)\n",
      "✅ Inserted batch 32 (5000 rows)\n",
      "✅ Inserted batch 33 (5000 rows)\n",
      "✅ Inserted batch 34 (5000 rows)\n",
      "✅ Inserted batch 35 (5000 rows)\n",
      "✅ Inserted batch 36 (5000 rows)\n",
      "✅ Inserted batch 37 (5000 rows)\n",
      "✅ Inserted batch 38 (5000 rows)\n",
      "✅ Inserted batch 39 (5000 rows)\n",
      "✅ Inserted batch 40 (5000 rows)\n",
      "✅ Inserted batch 41 (5000 rows)\n",
      "✅ Inserted batch 42 (5000 rows)\n",
      "✅ Inserted batch 43 (5000 rows)\n",
      "✅ Inserted batch 44 (5000 rows)\n",
      "✅ Inserted batch 45 (5000 rows)\n",
      "✅ Inserted batch 46 (5000 rows)\n",
      "✅ Inserted batch 47 (5000 rows)\n",
      "✅ Inserted batch 48 (5000 rows)\n",
      "✅ Inserted batch 49 (5000 rows)\n",
      "✅ Inserted batch 50 (5000 rows)\n",
      "✅ Inserted batch 51 (5000 rows)\n",
      "✅ Inserted batch 52 (5000 rows)\n",
      "✅ Inserted batch 53 (5000 rows)\n",
      "✅ Inserted batch 54 (5000 rows)\n",
      "✅ Inserted batch 55 (5000 rows)\n",
      "✅ Inserted batch 56 (5000 rows)\n",
      "✅ Inserted batch 57 (5000 rows)\n",
      "✅ Inserted batch 58 (5000 rows)\n",
      "✅ Inserted batch 59 (5000 rows)\n",
      "✅ Inserted batch 60 (5000 rows)\n",
      "✅ Inserted batch 61 (5000 rows)\n",
      "✅ Inserted batch 62 (5000 rows)\n",
      "✅ Inserted batch 63 (5000 rows)\n",
      "✅ Inserted batch 64 (5000 rows)\n",
      "✅ Inserted batch 65 (5000 rows)\n",
      "✅ Inserted batch 66 (5000 rows)\n",
      "✅ Inserted batch 67 (5000 rows)\n",
      "✅ Inserted batch 68 (5000 rows)\n",
      "✅ Inserted batch 69 (5000 rows)\n",
      "✅ Inserted batch 70 (5000 rows)\n",
      "✅ Inserted batch 71 (5000 rows)\n",
      "✅ Inserted batch 72 (5000 rows)\n",
      "✅ Inserted batch 73 (5000 rows)\n",
      "✅ Inserted batch 74 (5000 rows)\n",
      "✅ Inserted batch 75 (5000 rows)\n",
      "✅ Inserted batch 76 (5000 rows)\n",
      "✅ Inserted batch 77 (5000 rows)\n",
      "✅ Inserted batch 78 (5000 rows)\n",
      "✅ Inserted batch 79 (5000 rows)\n",
      "✅ Inserted batch 80 (5000 rows)\n",
      "✅ Inserted batch 81 (5000 rows)\n",
      "✅ Inserted batch 82 (5000 rows)\n",
      "✅ Inserted batch 83 (5000 rows)\n",
      "✅ Inserted batch 84 (5000 rows)\n",
      "✅ Inserted batch 85 (5000 rows)\n",
      "✅ Inserted batch 86 (5000 rows)\n",
      "✅ Inserted batch 87 (5000 rows)\n",
      "✅ Inserted batch 88 (5000 rows)\n",
      "✅ Inserted batch 89 (5000 rows)\n",
      "✅ Inserted batch 90 (5000 rows)\n",
      "✅ Inserted batch 91 (5000 rows)\n",
      "✅ Inserted batch 92 (5000 rows)\n",
      "✅ Inserted batch 93 (5000 rows)\n",
      "✅ Inserted batch 94 (5000 rows)\n",
      "✅ Inserted batch 95 (5000 rows)\n",
      "✅ Inserted batch 96 (5000 rows)\n",
      "✅ Inserted batch 97 (5000 rows)\n",
      "✅ Inserted batch 98 (5000 rows)\n",
      "✅ Inserted batch 99 (5000 rows)\n",
      "✅ Inserted batch 100 (5000 rows)\n",
      "✅ Inserted batch 101 (5000 rows)\n",
      "✅ Inserted batch 102 (5000 rows)\n",
      "✅ Inserted batch 103 (5000 rows)\n",
      "✅ Inserted batch 104 (5000 rows)\n",
      "✅ Inserted batch 105 (5000 rows)\n",
      "✅ Inserted batch 106 (5000 rows)\n",
      "✅ Inserted batch 107 (5000 rows)\n",
      "✅ Inserted batch 108 (5000 rows)\n",
      "✅ Inserted batch 109 (5000 rows)\n",
      "✅ Inserted batch 110 (5000 rows)\n",
      "✅ Inserted batch 111 (5000 rows)\n",
      "✅ Inserted batch 112 (5000 rows)\n",
      "✅ Inserted batch 113 (5000 rows)\n",
      "✅ Inserted batch 114 (5000 rows)\n",
      "✅ Inserted batch 115 (5000 rows)\n",
      "✅ Inserted batch 116 (5000 rows)\n",
      "✅ Inserted batch 117 (5000 rows)\n",
      "✅ Inserted batch 118 (5000 rows)\n",
      "✅ Inserted batch 119 (5000 rows)\n",
      "✅ Inserted batch 120 (5000 rows)\n",
      "✅ Inserted batch 121 (5000 rows)\n",
      "✅ Inserted batch 122 (5000 rows)\n",
      "✅ Inserted batch 123 (5000 rows)\n",
      "✅ Inserted batch 124 (5000 rows)\n",
      "✅ Inserted batch 125 (5000 rows)\n",
      "✅ Inserted batch 126 (5000 rows)\n",
      "✅ Inserted batch 127 (5000 rows)\n",
      "✅ Inserted batch 128 (5000 rows)\n",
      "✅ Inserted batch 129 (5000 rows)\n",
      "✅ Inserted batch 130 (5000 rows)\n",
      "✅ Inserted batch 131 (5000 rows)\n",
      "✅ Inserted batch 132 (5000 rows)\n",
      "✅ Inserted batch 133 (5000 rows)\n",
      "✅ Inserted batch 134 (5000 rows)\n",
      "✅ Inserted batch 135 (5000 rows)\n",
      "✅ Inserted batch 136 (5000 rows)\n",
      "✅ Inserted batch 137 (5000 rows)\n",
      "✅ Inserted batch 138 (5000 rows)\n",
      "✅ Inserted batch 139 (5000 rows)\n",
      "✅ Inserted batch 140 (5000 rows)\n",
      "✅ Inserted batch 141 (5000 rows)\n",
      "✅ Inserted batch 142 (5000 rows)\n",
      "✅ Inserted batch 143 (5000 rows)\n",
      "✅ Inserted batch 144 (5000 rows)\n",
      "✅ Inserted batch 145 (5000 rows)\n",
      "✅ Inserted batch 146 (5000 rows)\n",
      "✅ Inserted batch 147 (5000 rows)\n",
      "✅ Inserted batch 148 (5000 rows)\n",
      "✅ Inserted batch 149 (5000 rows)\n",
      "✅ Inserted batch 150 (5000 rows)\n",
      "✅ Inserted batch 151 (5000 rows)\n",
      "✅ Inserted batch 152 (5000 rows)\n",
      "✅ Inserted batch 153 (5000 rows)\n",
      "✅ Inserted batch 154 (5000 rows)\n",
      "✅ Inserted batch 155 (5000 rows)\n",
      "✅ Inserted batch 156 (5000 rows)\n",
      "✅ Inserted batch 157 (5000 rows)\n",
      "✅ Inserted batch 158 (5000 rows)\n",
      "✅ Inserted batch 159 (5000 rows)\n",
      "✅ Inserted batch 160 (5000 rows)\n",
      "✅ Inserted batch 161 (5000 rows)\n",
      "✅ Inserted batch 162 (5000 rows)\n",
      "✅ Inserted batch 163 (5000 rows)\n",
      "✅ Inserted batch 164 (5000 rows)\n",
      "✅ Inserted batch 165 (5000 rows)\n",
      "✅ Inserted batch 166 (5000 rows)\n",
      "✅ Inserted batch 167 (5000 rows)\n",
      "✅ Inserted batch 168 (5000 rows)\n",
      "✅ Inserted batch 169 (5000 rows)\n",
      "✅ Inserted batch 170 (5000 rows)\n",
      "✅ Inserted batch 171 (5000 rows)\n",
      "✅ Inserted batch 172 (5000 rows)\n",
      "✅ Inserted batch 173 (5000 rows)\n",
      "✅ Inserted batch 174 (5000 rows)\n",
      "✅ Inserted batch 175 (5000 rows)\n",
      "✅ Inserted batch 176 (5000 rows)\n",
      "✅ Inserted batch 177 (5000 rows)\n",
      "✅ Inserted batch 178 (5000 rows)\n",
      "✅ Inserted batch 179 (5000 rows)\n",
      "✅ Inserted batch 180 (5000 rows)\n",
      "✅ Inserted batch 181 (5000 rows)\n",
      "✅ Inserted batch 182 (5000 rows)\n",
      "✅ Inserted batch 183 (5000 rows)\n",
      "✅ Inserted batch 184 (5000 rows)\n",
      "✅ Inserted batch 185 (5000 rows)\n",
      "✅ Inserted batch 186 (5000 rows)\n",
      "✅ Inserted batch 187 (5000 rows)\n",
      "✅ Inserted batch 188 (5000 rows)\n",
      "✅ Inserted batch 189 (5000 rows)\n",
      "✅ Inserted batch 190 (5000 rows)\n",
      "✅ Inserted batch 191 (5000 rows)\n",
      "✅ Inserted batch 192 (5000 rows)\n",
      "✅ Inserted batch 193 (5000 rows)\n",
      "✅ Inserted batch 194 (5000 rows)\n",
      "✅ Inserted batch 195 (5000 rows)\n",
      "✅ Inserted batch 196 (5000 rows)\n",
      "✅ Inserted batch 197 (5000 rows)\n",
      "✅ Inserted batch 198 (5000 rows)\n",
      "✅ Inserted batch 199 (5000 rows)\n",
      "✅ Inserted batch 200 (5000 rows)\n",
      "✅ Inserted batch 201 (5000 rows)\n",
      "✅ Inserted batch 202 (5000 rows)\n",
      "✅ Inserted batch 203 (5000 rows)\n",
      "✅ Inserted batch 204 (5000 rows)\n",
      "✅ Inserted batch 205 (5000 rows)\n",
      "✅ Inserted batch 206 (5000 rows)\n",
      "✅ Inserted batch 207 (5000 rows)\n",
      "✅ Inserted batch 208 (5000 rows)\n",
      "✅ Inserted batch 209 (5000 rows)\n",
      "✅ Inserted batch 210 (5000 rows)\n",
      "✅ Inserted batch 211 (5000 rows)\n",
      "✅ Inserted batch 212 (5000 rows)\n",
      "✅ Inserted batch 213 (5000 rows)\n",
      "✅ Inserted batch 214 (5000 rows)\n",
      "✅ Inserted batch 215 (5000 rows)\n",
      "✅ Inserted batch 216 (5000 rows)\n",
      "✅ Inserted batch 217 (5000 rows)\n",
      "✅ Inserted batch 218 (5000 rows)\n",
      "✅ Inserted batch 219 (5000 rows)\n",
      "✅ Inserted batch 220 (5000 rows)\n",
      "✅ Inserted batch 221 (5000 rows)\n",
      "✅ Inserted batch 222 (5000 rows)\n",
      "✅ Inserted batch 223 (5000 rows)\n",
      "✅ Inserted batch 224 (5000 rows)\n",
      "✅ Inserted batch 225 (5000 rows)\n",
      "✅ Inserted batch 226 (5000 rows)\n",
      "✅ Inserted batch 227 (5000 rows)\n",
      "✅ Inserted batch 228 (5000 rows)\n",
      "✅ Inserted batch 229 (5000 rows)\n",
      "✅ Inserted batch 230 (5000 rows)\n",
      "✅ Inserted batch 231 (5000 rows)\n",
      "✅ Inserted batch 232 (5000 rows)\n",
      "✅ Inserted batch 233 (5000 rows)\n",
      "✅ Inserted batch 234 (5000 rows)\n",
      "✅ Inserted batch 235 (5000 rows)\n",
      "✅ Inserted batch 236 (5000 rows)\n",
      "✅ Inserted batch 237 (5000 rows)\n",
      "✅ Inserted batch 238 (5000 rows)\n",
      "✅ Inserted batch 239 (5000 rows)\n",
      "✅ Inserted batch 240 (5000 rows)\n",
      "✅ Inserted batch 241 (5000 rows)\n",
      "✅ Inserted batch 242 (5000 rows)\n",
      "✅ Inserted batch 243 (5000 rows)\n",
      "✅ Inserted batch 244 (5000 rows)\n",
      "✅ Inserted batch 245 (5000 rows)\n",
      "✅ Inserted batch 246 (5000 rows)\n",
      "✅ Inserted batch 247 (5000 rows)\n",
      "✅ Inserted batch 248 (5000 rows)\n",
      "✅ Inserted batch 249 (5000 rows)\n",
      "✅ Inserted batch 250 (5000 rows)\n",
      "✅ Inserted batch 251 (5000 rows)\n",
      "✅ Inserted batch 252 (5000 rows)\n",
      "✅ Inserted batch 253 (5000 rows)\n",
      "✅ Inserted batch 254 (5000 rows)\n",
      "✅ Inserted batch 255 (5000 rows)\n",
      "✅ Inserted batch 256 (5000 rows)\n",
      "✅ Inserted batch 257 (5000 rows)\n",
      "✅ Inserted batch 258 (5000 rows)\n",
      "✅ Inserted batch 259 (5000 rows)\n",
      "✅ Inserted batch 260 (5000 rows)\n",
      "✅ Inserted batch 261 (5000 rows)\n",
      "✅ Inserted batch 262 (5000 rows)\n",
      "✅ Inserted batch 263 (5000 rows)\n",
      "✅ Inserted batch 264 (5000 rows)\n",
      "✅ Inserted batch 265 (5000 rows)\n",
      "✅ Inserted batch 266 (5000 rows)\n",
      "✅ Inserted batch 267 (5000 rows)\n",
      "✅ Inserted batch 268 (5000 rows)\n",
      "✅ Inserted batch 269 (5000 rows)\n",
      "✅ Inserted batch 270 (5000 rows)\n",
      "✅ Inserted batch 271 (5000 rows)\n",
      "✅ Inserted batch 272 (5000 rows)\n",
      "✅ Inserted batch 273 (5000 rows)\n",
      "✅ Inserted batch 274 (5000 rows)\n",
      "✅ Inserted batch 275 (5000 rows)\n",
      "✅ Inserted batch 276 (5000 rows)\n",
      "✅ Inserted batch 277 (5000 rows)\n",
      "✅ Inserted batch 278 (5000 rows)\n",
      "✅ Inserted batch 279 (5000 rows)\n",
      "✅ Inserted batch 280 (5000 rows)\n",
      "✅ Inserted batch 281 (5000 rows)\n",
      "✅ Inserted batch 282 (5000 rows)\n",
      "✅ Inserted batch 283 (5000 rows)\n",
      "✅ Inserted batch 284 (5000 rows)\n",
      "✅ Inserted batch 285 (5000 rows)\n",
      "✅ Inserted batch 286 (5000 rows)\n",
      "✅ Inserted batch 287 (5000 rows)\n",
      "✅ Inserted batch 288 (5000 rows)\n",
      "✅ Inserted batch 289 (5000 rows)\n",
      "✅ Inserted batch 290 (5000 rows)\n",
      "✅ Inserted batch 291 (5000 rows)\n",
      "✅ Inserted batch 292 (5000 rows)\n",
      "✅ Inserted batch 293 (5000 rows)\n",
      "✅ Inserted batch 294 (5000 rows)\n",
      "✅ Inserted batch 295 (5000 rows)\n",
      "✅ Inserted batch 296 (5000 rows)\n",
      "✅ Inserted batch 297 (5000 rows)\n",
      "✅ Inserted batch 298 (5000 rows)\n",
      "✅ Inserted batch 299 (5000 rows)\n",
      "✅ Inserted batch 300 (5000 rows)\n",
      "✅ Inserted batch 301 (5000 rows)\n",
      "✅ Inserted batch 302 (5000 rows)\n",
      "✅ Inserted batch 303 (5000 rows)\n",
      "✅ Inserted batch 304 (5000 rows)\n",
      "✅ Inserted batch 305 (5000 rows)\n",
      "✅ Inserted batch 306 (5000 rows)\n",
      "✅ Inserted batch 307 (5000 rows)\n",
      "✅ Inserted batch 308 (5000 rows)\n",
      "✅ Inserted batch 309 (5000 rows)\n",
      "✅ Inserted batch 310 (5000 rows)\n",
      "✅ Inserted batch 311 (5000 rows)\n",
      "✅ Inserted batch 312 (5000 rows)\n",
      "✅ Inserted batch 313 (5000 rows)\n",
      "✅ Inserted batch 314 (5000 rows)\n",
      "✅ Inserted batch 315 (5000 rows)\n",
      "✅ Inserted batch 316 (5000 rows)\n",
      "✅ Inserted batch 317 (5000 rows)\n",
      "✅ Inserted batch 318 (5000 rows)\n",
      "✅ Inserted batch 319 (5000 rows)\n",
      "✅ Inserted batch 320 (5000 rows)\n",
      "✅ Inserted batch 321 (5000 rows)\n",
      "✅ Inserted batch 322 (5000 rows)\n",
      "✅ Inserted batch 323 (5000 rows)\n",
      "✅ Inserted batch 324 (5000 rows)\n",
      "✅ Inserted batch 325 (5000 rows)\n",
      "✅ Inserted batch 326 (3701 rows)\n",
      "🎉 Data insertion completed successfully!\n"
     ]
    }
   ],
   "source": [
    "import pandas as pd\n",
    "import mysql.connector\n",
    "\n",
    "# Load the CSV file\n",
    "csv_path = r\"C:\\Users\\MOHAMED RAZIK\\Desktop\\My_code\\Project2\\cricket_data_test.csv\"\n",
    "df = pd.read_csv(csv_path)\n",
    "\n",
    "# Convert DataFrame to list of tuples\n",
    "data = [tuple(row) for row in df.itertuples(index=False, name=None)]\n",
    "\n",
    "# MySQL connection\n",
    "mydb = mysql.connector.connect(\n",
    "    host='localhost',\n",
    "    user='root',\n",
    "    password='Mysql@4321',\n",
    "    database='cricket_db'\n",
    ")\n",
    "mycursor = mydb.cursor()\n",
    "\n",
    "# Insert query\n",
    "insert_query = \"\"\"\n",
    "INSERT INTO tests (\n",
    "    city, date, event_name, match_type, result, player_of_match, team, `over`,\n",
    "    batter, bowler, non_striker, runs_batter, runs_extras, runs_total\n",
    ")\n",
    "VALUES (%s, %s, %s, %s, %s, %s, %s, %s, %s, %s, %s, %s, %s, %s)\n",
    "\"\"\"\n",
    "\n",
    "# Chunked insert\n",
    "batch_size = 5000\n",
    "total_rows = len(data)\n",
    "\n",
    "print(f\"Starting insertion of {total_rows} rows in batches of {batch_size}...\")\n",
    "\n",
    "for i in range(0, total_rows, batch_size):\n",
    "    batch = data[i:i+batch_size]\n",
    "    try:\n",
    "        mycursor.executemany(insert_query, batch)\n",
    "        mydb.commit()\n",
    "        print(f\"✅ Inserted batch {i // batch_size + 1} ({len(batch)} rows)\")\n",
    "    except mysql.connector.Error as err:\n",
    "        print(f\"❌ Error in batch {i // batch_size + 1}: {err}\")\n",
    "        mydb.rollback()\n",
    "\n",
    "# Close connection\n",
    "mycursor.close()\n",
    "mydb.close()\n",
    "print(\"🎉 Data insertion completed successfully!\")\n"
   ]
  },
  {
   "cell_type": "code",
   "execution_count": 4,
   "id": "8797bc51",
   "metadata": {},
   "outputs": [
    {
     "name": "stdout",
     "output_type": "stream",
     "text": [
      "Number of rows: 1628701\n"
     ]
    }
   ],
   "source": [
    "row_count = len(df)\n",
    "print(f\"Number of rows: {row_count}\")"
   ]
  },
  {
   "cell_type": "code",
   "execution_count": 9,
   "id": "b8527e94",
   "metadata": {},
   "outputs": [
    {
     "data": {
      "image/png": "[encoded data removed]",
      "text/plain": [
       "<Figure size 1000x600 with 1 Axes>"
      ]
     },
     "metadata": {},
     "output_type": "display_data"
    }
   ],
   "source": [
    "import matplotlib.pyplot as plt\n",
    "\n",
    "# Aggregate runs by team\n",
    "team_runs = df.groupby('team')['runs_total'].sum().sort_values(ascending=False)\n",
    "\n",
    "# Plot\n",
    "plt.figure(figsize=(10,6))\n",
    "team_runs.plot(kind='bar', color='steelblue')\n",
    "plt.title(\"Total Runs Scored by Teams\")\n",
    "plt.xlabel(\"Team\")\n",
    "plt.ylabel(\"Total Runs\")\n",
    "plt.xticks(rotation=45)\n",
    "plt.tight_layout()\n",
    "plt.grid(axis='y')\n",
    "plt.show()\n"
   ]
  },
  {
   "cell_type": "code",
   "execution_count": 10,
   "id": "f4f3dfff",
   "metadata": {},
   "outputs": [
    {
     "name": "stderr",
     "output_type": "stream",
     "text": [
      "C:\\Users\\MOHAMED RAZIK\\AppData\\Local\\Temp\\ipykernel_900\\1533995858.py:16: FutureWarning:\n",
      "\n",
      "\n",
      "\n",
      "Passing `palette` without assigning `hue` is deprecated and will be removed in v0.14.0. Assign the `y` variable to `hue` and set `legend=False` for the same effect.\n",
      "\n",
      "\n"
     ]
    },
    {
     "data": {
      "image/png": "[encoded data removed]",
      "text/plain": [
       "<Figure size 1000x600 with 1 Axes>"
      ]
     },
     "metadata": {},
     "output_type": "display_data"
    }
   ],
   "source": [
    "import seaborn as sns\n",
    "\n",
    "# Calculate total runs and balls faced per batter\n",
    "batter_stats = df.groupby('batter').agg(\n",
    "    total_runs=('runs_batter', 'sum'),\n",
    "    balls_faced=('runs_batter', 'count')\n",
    ")\n",
    "\n",
    "batter_stats['avg_runs_per_ball'] = batter_stats['total_runs'] / batter_stats['balls_faced']\n",
    "\n",
    "# Get top 10 consistent batters\n",
    "top_consistent_batters = batter_stats.sort_values(by='avg_runs_per_ball', ascending=False).head(10).reset_index()\n",
    "\n",
    "# Plot\n",
    "plt.figure(figsize=(10,6))\n",
    "sns.barplot(data=top_consistent_batters, x='avg_runs_per_ball', y='batter', palette='magma')\n",
    "plt.title(\"Top 10 Consistent Batters (Avg. Runs per Ball)\")\n",
    "plt.xlabel(\"Avg. Runs per Ball\")\n",
    "plt.ylabel(\"Batter\")\n",
    "plt.tight_layout()\n",
    "plt.show()\n"
   ]
  },
  {
   "cell_type": "code",
   "execution_count": 16,
   "id": "cbe6bd45",
   "metadata": {},
   "outputs": [],
   "source": [
    "import plotly.express as px\n",
    "import plotly.io as pio\n",
    "\n",
    "# ✅ Set Plotly to open charts in the browser\n",
    "pio.renderers.default = 'browser'\n",
    "\n",
    "# ✅ Check required columns exist\n",
    "required_columns = {'bowler', 'runs_total'}\n",
    "missing_cols = required_columns - set(df.columns)\n",
    "if missing_cols:\n",
    "    raise ValueError(f\"Missing columns in DataFrame: {missing_cols}\")\n",
    "\n",
    "# ✅ Calculate bowler stats\n",
    "bowler_stats = df.groupby('bowler').agg(\n",
    "    total_runs_conceded=('runs_total', 'sum'),\n",
    "    balls_bowled=('runs_total', 'count')\n",
    ").reset_index()\n",
    "\n",
    "# ✅ Add economy rate\n",
    "bowler_stats['economy'] = bowler_stats['total_runs_conceded'] / bowler_stats['balls_bowled']\n",
    "\n",
    "# ✅ Add strike rate = balls per run conceded\n",
    "bowler_stats['strike_rate'] = bowler_stats['balls_bowled'] / bowler_stats['total_runs_conceded']\n",
    "\n",
    "# ✅ Filter: Only bowlers with at least 100 balls\n",
    "top_economical_bowlers = bowler_stats[bowler_stats['balls_bowled'] >= 100]\n",
    "top_economical_bowlers = top_economical_bowlers.sort_values(by='economy').head(10)\n",
    "\n",
    "# ✅ Create interactive bar chart (no text on bars)\n",
    "fig = px.bar(\n",
    "    top_economical_bowlers,\n",
    "    x='economy',\n",
    "    y='bowler',\n",
    "    orientation='h',\n",
    "    color='economy',\n",
    "    color_continuous_scale='Tealgrn',\n",
    "    title='🧤 Top 10 Most Economical Bowlers (Min. 100 Balls)<br><sup>Based on Economy Rate with Bowling Strike Rate Insight</sup>',\n",
    "    labels={'economy': 'Economy Rate', 'bowler': 'Bowler'},\n",
    "    hover_data={\n",
    "        'economy': ':.2f',\n",
    "        'balls_bowled': True,\n",
    "        'total_runs_conceded': True,\n",
    "        'strike_rate': ':.2f'\n",
    "    }\n",
    ")\n",
    "\n",
    "# ✅ Layout enhancements\n",
    "fig.update_layout(\n",
    "    yaxis={'categoryorder': 'total ascending'},\n",
    "    plot_bgcolor='rgba(245, 245, 245, 1)',\n",
    "    paper_bgcolor='white',\n",
    "    font=dict(size=14),\n",
    "    xaxis=dict(title='Economy Rate'),\n",
    "    hoverlabel=dict(bgcolor=\"white\", font_size=13)\n",
    ")\n",
    "\n",
    "# ✅ Remove text labels on bars\n",
    "fig.update_traces(text=None)\n",
    "\n",
    "# ✅ Show plot\n",
    "fig.show()\n"
   ]
  },
  {
   "cell_type": "markdown",
   "id": "2b2786c4",
   "metadata": {},
   "source": [
    "IPL Match data"
   ]
  },
  {
   "cell_type": "code",
   "execution_count": 4,
   "id": "89fe5026",
   "metadata": {},
   "outputs": [
    {
     "name": "stdout",
     "output_type": "stream",
     "text": [
      "   season       city                                      venue        date  \\\n",
      "0    2017  Hyderabad  Rajiv Gandhi International Stadium, Uppal  2017-04-05   \n",
      "1    2017  Hyderabad  Rajiv Gandhi International Stadium, Uppal  2017-04-05   \n",
      "2    2017  Hyderabad  Rajiv Gandhi International Stadium, Uppal  2017-04-05   \n",
      "3    2017  Hyderabad  Rajiv Gandhi International Stadium, Uppal  2017-04-05   \n",
      "4    2017  Hyderabad  Rajiv Gandhi International Stadium, Uppal  2017-04-05   \n",
      "\n",
      "              event_name match_type               result player_of_match  \\\n",
      "0  Indian Premier League        T20  Sunrisers Hyderabad    Yuvraj Singh   \n",
      "1  Indian Premier League        T20  Sunrisers Hyderabad    Yuvraj Singh   \n",
      "2  Indian Premier League        T20  Sunrisers Hyderabad    Yuvraj Singh   \n",
      "3  Indian Premier League        T20  Sunrisers Hyderabad    Yuvraj Singh   \n",
      "4  Indian Premier League        T20  Sunrisers Hyderabad    Yuvraj Singh   \n",
      "\n",
      "                  team         batting_team  ... runs_batter  runs_extras  \\\n",
      "0  Sunrisers Hyderabad  Sunrisers Hyderabad  ...           0            0   \n",
      "1  Sunrisers Hyderabad  Sunrisers Hyderabad  ...           0            0   \n",
      "2  Sunrisers Hyderabad  Sunrisers Hyderabad  ...           4            0   \n",
      "3  Sunrisers Hyderabad  Sunrisers Hyderabad  ...           0            0   \n",
      "4  Sunrisers Hyderabad  Sunrisers Hyderabad  ...           0            2   \n",
      "\n",
      "   runs_total wides noballs byes  legbyes  wicket_type  player_dismissed  out  \n",
      "0           0     0       0    0        0         None              None    0  \n",
      "1           0     0       0    0        0         None              None    0  \n",
      "2           4     0       0    0        0         None              None    0  \n",
      "3           0     0       0    0        0         None              None    0  \n",
      "4           2     2       0    0        0         None              None    0  \n",
      "\n",
      "[5 rows x 26 columns]\n"
     ]
    }
   ],
   "source": [
    "import os\n",
    "import json\n",
    "import pandas as pd\n",
    "\n",
    "# Directory containing IPL JSON files\n",
    "json_dir = r\"C:\\Users\\MOHAMED RAZIK\\Desktop\\My_code\\CricSheet\\ipl_male_json\"\n",
    "\n",
    "# List all JSON files in directory\n",
    "json_files = [f for f in os.listdir(json_dir) if f.endswith('.json')]\n",
    "\n",
    "all_deliveries = []\n",
    "\n",
    "# Loop through each match file\n",
    "for json_file in json_files:\n",
    "    file_path = os.path.join(json_dir, json_file)\n",
    "    with open(file_path, 'r') as f:\n",
    "        data = json.load(f)\n",
    "\n",
    "        # Extract general match info\n",
    "        city = data['info'].get('city', 'Unknown')\n",
    "        date = data['info']['dates'][0]\n",
    "        season = pd.to_datetime(date).year\n",
    "        event_name = data['info'].get('event', {}).get('name', 'Unknown')\n",
    "        match_type = data['info']['match_type']\n",
    "        venue = data['info'].get('venue', 'Unknown')\n",
    "\n",
    "        # Determine match result\n",
    "        if 'result' in data['info']['outcome']:\n",
    "            result = data['info']['outcome']['result']\n",
    "        elif 'winner' in data['info']['outcome']:\n",
    "            result = data['info']['outcome']['winner']\n",
    "        else:\n",
    "            result = 'Unknown'\n",
    "\n",
    "        player_of_match = data['info'].get('player_of_match', ['Unknown'])[0]\n",
    "        teams = data['info'].get('teams', [])\n",
    "\n",
    "        # Process innings and deliveries\n",
    "        if 'innings' in data:\n",
    "            for i, inning in enumerate(data['innings']):\n",
    "                batting_team = inning['team']\n",
    "                bowling_team = teams[1] if teams[0] == batting_team else teams[0]\n",
    "\n",
    "                if 'overs' in inning:\n",
    "                    for over_data in inning['overs']:\n",
    "                        over_number = over_data['over']\n",
    "\n",
    "                        if 'deliveries' in over_data:\n",
    "                            for d_idx, delivery in enumerate(over_data['deliveries']):\n",
    "                                # Basic delivery info\n",
    "                                batter = delivery['batter']\n",
    "                                bowler = delivery['bowler']\n",
    "                                non_striker = delivery['non_striker']\n",
    "                                runs_batter = delivery['runs']['batter']\n",
    "                                runs_extras = delivery['runs']['extras']\n",
    "                                runs_total = delivery['runs']['total']\n",
    "\n",
    "                                # Generate ball number like 6.1, 6.2 etc.\n",
    "                                ball = round(over_number + ((d_idx + 1) / 10), 1)\n",
    "\n",
    "                                # Extras details\n",
    "                                wides = delivery.get('extras', {}).get('wides', 0)\n",
    "                                noballs = delivery.get('extras', {}).get('noballs', 0)\n",
    "                                byes = delivery.get('extras', {}).get('byes', 0)\n",
    "                                legbyes = delivery.get('extras', {}).get('legbyes', 0)\n",
    "\n",
    "                                # Wicket info\n",
    "                                wicket_type = None\n",
    "                                player_dismissed = None\n",
    "                                out = 0\n",
    "                                if 'wickets' in delivery:\n",
    "                                    for w in delivery['wickets']:\n",
    "                                        wicket_type = w.get('kind')\n",
    "                                        player_dismissed = w.get('player_out')\n",
    "                                        out = 1\n",
    "\n",
    "                                # Append all info to the list\n",
    "                                all_deliveries.append({\n",
    "                                    'season': season,\n",
    "                                    'city': city,\n",
    "                                    'venue': venue,\n",
    "                                    'date': date,\n",
    "                                    'event_name': event_name,\n",
    "                                    'match_type': match_type,\n",
    "                                    'result': result,\n",
    "                                    'player_of_match': player_of_match,\n",
    "                                    'team': batting_team,\n",
    "                                    'batting_team': batting_team,\n",
    "                                    'bowling_team': bowling_team,\n",
    "                                    'over': over_number,\n",
    "                                    'ball': ball,\n",
    "                                    'batter': batter,\n",
    "                                    'bowler': bowler,\n",
    "                                    'non_striker': non_striker,\n",
    "                                    'runs_batter': runs_batter,\n",
    "                                    'runs_extras': runs_extras,\n",
    "                                    'runs_total': runs_total,\n",
    "                                    'wides': wides,\n",
    "                                    'noballs': noballs,\n",
    "                                    'byes': byes,\n",
    "                                    'legbyes': legbyes,\n",
    "                                    'wicket_type': wicket_type,\n",
    "                                    'player_dismissed': player_dismissed,\n",
    "                                    'out': out\n",
    "                                })\n",
    "\n",
    "# Convert list of deliveries to DataFrame\n",
    "df = pd.DataFrame(all_deliveries)\n",
    "\n",
    "# Show first few rows of final dataset\n",
    "print(df.head())\n"
   ]
  },
  {
   "cell_type": "code",
   "execution_count": 5,
   "id": "16a862bd",
   "metadata": {},
   "outputs": [
    {
     "data": {
      "text/plain": [
       "season                   0\n",
       "city                     0\n",
       "venue                    0\n",
       "date                     0\n",
       "event_name               0\n",
       "match_type               0\n",
       "result                   0\n",
       "player_of_match          0\n",
       "team                     0\n",
       "batting_team             0\n",
       "bowling_team             0\n",
       "over                     0\n",
       "ball                     0\n",
       "batter                   0\n",
       "bowler                   0\n",
       "non_striker              0\n",
       "runs_batter              0\n",
       "runs_extras              0\n",
       "runs_total               0\n",
       "wides                    0\n",
       "noballs                  0\n",
       "byes                     0\n",
       "legbyes                  0\n",
       "wicket_type         262371\n",
       "player_dismissed    262371\n",
       "out                      0\n",
       "dtype: int64"
      ]
     },
     "execution_count": 5,
     "metadata": {},
     "output_type": "execute_result"
    }
   ],
   "source": [
    "df.isnull().sum()"
   ]
  },
  {
   "cell_type": "code",
   "execution_count": null,
   "id": "db4bf66c",
   "metadata": {},
   "outputs": [],
   "source": [
    "df.to_csv(\"cricket_data_ipl.csv\", index= False)"
   ]
  },
  {
   "cell_type": "code",
   "execution_count": null,
   "id": "c6f4c6b7",
   "metadata": {},
   "outputs": [
    {
     "name": "stdout",
     "output_type": "stream",
     "text": [
      "Table 'ipl' created successfully with 27 columns.\n"
     ]
    }
   ],
   "source": [
    "import mysql.connector\n",
    "\n",
    "# Connect to MySQL database\n",
    "mydb = mysql.connector.connect(\n",
    "    host=\"localhost\",\n",
    "    user=\"root\",\n",
    "    password=\"Mysql@4321\",\n",
    "    database=\"cricket_db\"\n",
    ")\n",
    "\n",
    "mycursor = mydb.cursor()\n",
    "\n",
    "# Create table with all 27 columns (including id as primary key)\n",
    "create_table_query = \"\"\"\n",
    "CREATE TABLE IF NOT EXISTS ipl (\n",
    "    id INT AUTO_INCREMENT PRIMARY KEY,           -- Unique row identifier\n",
    "    season INT,                                   -- Extracted year from match date\n",
    "    city VARCHAR(255),                            -- Match city\n",
    "    venue VARCHAR(255),                           -- Match venue/stadium\n",
    "    date DATE,                                    -- Match date\n",
    "    event_name VARCHAR(255),                      -- Event name (e.g., IPL)\n",
    "    match_type VARCHAR(50),                       -- Match type (e.g., T20)\n",
    "    result VARCHAR(255),                          -- Match result\n",
    "    player_of_match VARCHAR(255),                 -- Player of the match\n",
    "    team VARCHAR(255),                            -- Innings team (batting)\n",
    "    batting_team VARCHAR(255),                    -- Same as team (explicit)\n",
    "    bowling_team VARCHAR(255),                    -- Opponent team\n",
    "    `over` INT,                                   -- Over number\n",
    "    ball FLOAT,                                   -- Ball number like 5.1, 7.6\n",
    "    batter VARCHAR(255),                          -- Striker\n",
    "    bowler VARCHAR(255),                          -- Bowler\n",
    "    non_striker VARCHAR(255),                     -- Non-striker\n",
    "    runs_batter INT,                              -- Runs scored by batter\n",
    "    runs_extras INT,                              -- Extras (wides, legbyes, etc.)\n",
    "    runs_total INT,                               -- Total runs from that ball\n",
    "    wides INT,                                     -- Wide runs\n",
    "    noballs INT,                                   -- No-ball runs\n",
    "    byes INT,                                      -- Bye runs\n",
    "    legbyes INT,                                   -- Legbye runs\n",
    "    wicket_type VARCHAR(50),                      -- Type of wicket (caught, bowled, etc.)\n",
    "    player_dismissed VARCHAR(255),                -- Player who got out\n",
    "    `out` TINYINT                                  -- 1 if wicket fell, 0 otherwise\n",
    ")\n",
    "\"\"\"\n",
    "\n",
    "# Execute and commit the table creation\n",
    "mycursor.execute(create_table_query)\n",
    "mydb.commit()\n",
    "\n",
    "print(\"Table 'ipl' created successfully with 27 columns.\")\n"
   ]
  },
  {
   "cell_type": "code",
   "execution_count": null,
   "id": "79bd9bab",
   "metadata": {},
   "outputs": [
    {
     "name": "stdout",
     "output_type": "stream",
     "text": [
      "Starting insertion of 276087 rows in batches of 5000...\n",
      "✅ Inserted batch 1 (5000 rows)\n",
      "✅ Inserted batch 2 (5000 rows)\n",
      "✅ Inserted batch 3 (5000 rows)\n",
      "✅ Inserted batch 4 (5000 rows)\n",
      "✅ Inserted batch 5 (5000 rows)\n",
      "✅ Inserted batch 6 (5000 rows)\n",
      "✅ Inserted batch 7 (5000 rows)\n",
      "✅ Inserted batch 8 (5000 rows)\n",
      "✅ Inserted batch 9 (5000 rows)\n",
      "✅ Inserted batch 10 (5000 rows)\n",
      "✅ Inserted batch 11 (5000 rows)\n",
      "✅ Inserted batch 12 (5000 rows)\n",
      "✅ Inserted batch 13 (5000 rows)\n",
      "✅ Inserted batch 14 (5000 rows)\n",
      "✅ Inserted batch 15 (5000 rows)\n",
      "✅ Inserted batch 16 (5000 rows)\n",
      "✅ Inserted batch 17 (5000 rows)\n",
      "✅ Inserted batch 18 (5000 rows)\n",
      "✅ Inserted batch 19 (5000 rows)\n",
      "✅ Inserted batch 20 (5000 rows)\n",
      "✅ Inserted batch 21 (5000 rows)\n",
      "✅ Inserted batch 22 (5000 rows)\n",
      "✅ Inserted batch 23 (5000 rows)\n",
      "✅ Inserted batch 24 (5000 rows)\n",
      "✅ Inserted batch 25 (5000 rows)\n",
      "✅ Inserted batch 26 (5000 rows)\n",
      "✅ Inserted batch 27 (5000 rows)\n",
      "✅ Inserted batch 28 (5000 rows)\n",
      "✅ Inserted batch 29 (5000 rows)\n",
      "✅ Inserted batch 30 (5000 rows)\n",
      "✅ Inserted batch 31 (5000 rows)\n",
      "✅ Inserted batch 32 (5000 rows)\n",
      "✅ Inserted batch 33 (5000 rows)\n",
      "✅ Inserted batch 34 (5000 rows)\n",
      "✅ Inserted batch 35 (5000 rows)\n",
      "✅ Inserted batch 36 (5000 rows)\n",
      "✅ Inserted batch 37 (5000 rows)\n",
      "✅ Inserted batch 38 (5000 rows)\n",
      "✅ Inserted batch 39 (5000 rows)\n",
      "✅ Inserted batch 40 (5000 rows)\n",
      "✅ Inserted batch 41 (5000 rows)\n",
      "✅ Inserted batch 42 (5000 rows)\n",
      "✅ Inserted batch 43 (5000 rows)\n",
      "✅ Inserted batch 44 (5000 rows)\n",
      "✅ Inserted batch 45 (5000 rows)\n",
      "✅ Inserted batch 46 (5000 rows)\n",
      "✅ Inserted batch 47 (5000 rows)\n",
      "✅ Inserted batch 48 (5000 rows)\n",
      "✅ Inserted batch 49 (5000 rows)\n",
      "✅ Inserted batch 50 (5000 rows)\n",
      "✅ Inserted batch 51 (5000 rows)\n",
      "✅ Inserted batch 52 (5000 rows)\n",
      "✅ Inserted batch 53 (5000 rows)\n",
      "✅ Inserted batch 54 (5000 rows)\n",
      "✅ Inserted batch 55 (5000 rows)\n",
      "✅ Inserted batch 56 (1087 rows)\n",
      "🎉 Data insertion completed successfully!\n"
     ]
    }
   ],
   "source": [
    "import pandas as pd\n",
    "import mysql.connector\n",
    "import numpy as np\n",
    "\n",
    "# ✅ Load the CSV\n",
    "csv_path = r\"C:\\Users\\MOHAMED RAZIK\\Desktop\\My_code\\Project2\\cricket_data_ipl.csv\"\n",
    "df = pd.read_csv(csv_path)\n",
    "\n",
    "# ✅ Replace NaN (pandas) with None (Python native null) — needed for MySQL\n",
    "df = df.replace({np.nan: None})\n",
    "\n",
    "# ✅ Convert DataFrame to list of tuples\n",
    "data = [tuple(row) for row in df.itertuples(index=False, name=None)]\n",
    "\n",
    "# ✅ Connect to MySQL\n",
    "mydb = mysql.connector.connect(\n",
    "    host='localhost',\n",
    "    user='root',\n",
    "    password='Mysql@4321',\n",
    "    database='cricket_db'\n",
    ")\n",
    "mycursor = mydb.cursor()\n",
    "\n",
    "# ✅ INSERT query for all 26 columns (excluding auto-increment id)\n",
    "insert_query = \"\"\"\n",
    "INSERT INTO ipl (\n",
    "    season, city, venue, date, event_name, match_type, result, player_of_match,\n",
    "    team, batting_team, bowling_team, `over`, ball, batter, bowler, non_striker,\n",
    "    runs_batter, runs_extras, runs_total, wides, noballs, byes, legbyes,\n",
    "    wicket_type, player_dismissed, `out`\n",
    ")\n",
    "VALUES (\n",
    "    %s, %s, %s, %s, %s, %s, %s, %s,\n",
    "    %s, %s, %s, %s, %s, %s, %s, %s,\n",
    "    %s, %s, %s, %s, %s, %s, %s,\n",
    "    %s, %s, %s\n",
    ")\n",
    "\"\"\"\n",
    "\n",
    "# ✅ Batch insert\n",
    "batch_size = 5000\n",
    "total_rows = len(data)\n",
    "print(f\"Starting insertion of {total_rows} rows in batches of {batch_size}...\")\n",
    "\n",
    "for i in range(0, total_rows, batch_size):\n",
    "    batch = data[i:i + batch_size]\n",
    "    try:\n",
    "        mycursor.executemany(insert_query, batch)\n",
    "        mydb.commit()\n",
    "        print(f\"✅ Inserted batch {i // batch_size + 1} ({len(batch)} rows)\")\n",
    "    except mysql.connector.Error as err:\n",
    "        print(f\"❌ Error in batch {i // batch_size + 1}: {err}\")\n",
    "        mydb.rollback()\n",
    "\n",
    "# ✅ Close connections\n",
    "mycursor.close()\n",
    "mydb.close()\n",
    "print(\"🎉 Data insertion completed successfully!\")\n"
   ]
  },
  {
   "cell_type": "code",
   "execution_count": 13,
   "id": "468d9e36",
   "metadata": {},
   "outputs": [],
   "source": [
    "import mysql.connector\n",
    "import pandas as pd\n",
    "import matplotlib.pyplot as plt\n",
    "import seaborn as sns\n",
    "import plotly.express as px\n",
    "\n",
    "# MySQL connection\n",
    "connection = mysql.connector.connect(\n",
    "    host=\"localhost\",\n",
    "    user=\"root\",\n",
    "    password=\"Mysql@4321\",\n",
    "    database=\"cricket_db\"\n",
    ")\n",
    "cursor = connection.cursor()\n",
    "\n",
    "# Define SQL queries\n",
    "queries = {\n",
    "    \"Top 10 Run Scorers\": \"\"\"\n",
    "        SELECT batter, SUM(runs_batter) AS total_runs\n",
    "        FROM ipl\n",
    "        GROUP BY batter\n",
    "        ORDER BY total_runs DESC\n",
    "        LIMIT 10\n",
    "    \"\"\",\n",
    "  \n",
    "    \"Dot Balls by Bowler\": \"\"\"\n",
    "        SELECT bowler, COUNT(*) AS dot_balls\n",
    "        FROM ipl\n",
    "        WHERE runs_total = 0 AND wides = 0 AND noballs = 0\n",
    "        GROUP BY bowler\n",
    "        ORDER BY dot_balls DESC\n",
    "        LIMIT 10\n",
    "    \"\"\",\n",
    "    \n",
    "    \"Most Six Hitters\": \"\"\"\n",
    "        SELECT batter, COUNT(*) AS sixes\n",
    "        FROM ipl\n",
    "        WHERE runs_batter = 6\n",
    "        GROUP BY batter\n",
    "        ORDER BY sixes DESC\n",
    "        LIMIT 10\n",
    "    \"\"\",\n",
    "   \n",
    "    \n",
    "    \"Yearly Match Trend\": \"\"\"\n",
    "        SELECT season, COUNT(DISTINCT date) AS matches\n",
    "        FROM ipl\n",
    "        GROUP BY season\n",
    "        ORDER BY season\n",
    "    \"\"\"\n",
    "}\n",
    "\n",
    "# Execute and store results\n",
    "dfs = {}\n",
    "for title, query in queries.items():\n",
    "    cursor.execute(query)\n",
    "    data = cursor.fetchall()\n",
    "    columns = [desc[0] for desc in cursor.description]\n",
    "    dfs[title] = pd.DataFrame(data, columns=columns)\n",
    "\n",
    "# Close connections\n",
    "cursor.close()\n",
    "connection.close()\n"
   ]
  },
  {
   "cell_type": "code",
   "execution_count": null,
   "id": "700b18fd",
   "metadata": {},
   "outputs": [
    {
     "name": "stderr",
     "output_type": "stream",
     "text": [
      "C:\\Users\\MOHAMED RAZIK\\AppData\\Local\\Temp\\ipykernel_10404\\3795921084.py:3: FutureWarning:\n",
      "\n",
      "\n",
      "\n",
      "Passing `palette` without assigning `hue` is deprecated and will be removed in v0.14.0. Assign the `y` variable to `hue` and set `legend=False` for the same effect.\n",
      "\n",
      "\n"
     ]
    },
    {
     "data": {
      "image/png": "[encoded data removed]",
      "text/plain": [
       "<Figure size 1000x600 with 1 Axes>"
      ]
     },
     "metadata": {},
     "output_type": "display_data"
    }
   ],
   "source": [
    "# Top 10 Run Scorers\n",
    "plt.figure(figsize=(10,6))\n",
    "sns.barplot(data=dfs[\"Top 10 Run Scorers\"], x='total_runs', y='batter', palette='viridis')\n",
    "plt.title(\"Top 10 Run Scorers in IPL\")\n",
    "plt.xlabel(\"Total Runs\")\n",
    "plt.ylabel(\"Batter\")\n",
    "plt.show()"
   ]
  },
  {
   "cell_type": "code",
   "execution_count": null,
   "id": "75d7ebd2",
   "metadata": {},
   "outputs": [
    {
     "data": {
      "image/png": "[encoded data removed]",
      "text/plain": [
       "<Figure size 1000x600 with 1 Axes>"
      ]
     },
     "metadata": {},
     "output_type": "display_data"
    }
   ],
   "source": [
    "\n",
    "# Yearly Match Trend\n",
    "plt.figure(figsize=(10,6))\n",
    "sns.lineplot(data=dfs[\"Yearly Match Trend\"], x='season', y='matches', marker='o')\n",
    "plt.title(\"Number of IPL Matches Per Season\")\n",
    "plt.grid(True)\n",
    "plt.show()"
   ]
  },
  {
   "cell_type": "code",
   "execution_count": null,
   "id": "e6eee9db",
   "metadata": {},
   "outputs": [
    {
     "data": {
      "image/png": "[encoded data removed]",
      "text/plain": [
       "<Figure size 1000x600 with 1 Axes>"
      ]
     },
     "metadata": {},
     "output_type": "display_data"
    }
   ],
   "source": [
    "# Top 10 Six Hitters - Lollipop Chart with labels\n",
    "six_data = dfs[\"Most Six Hitters\"].sort_values(by='sixes')\n",
    "\n",
    "plt.figure(figsize=(10,6))\n",
    "plt.hlines(y=six_data['batter'], xmin=0, xmax=six_data['sixes'], color='skyblue')\n",
    "plt.plot(six_data['sixes'], six_data['batter'], \"o\", color='blue')\n",
    "\n",
    "# Add number labels at the end of each line\n",
    "for i, val in enumerate(six_data['sixes']):\n",
    "    plt.text(val + 1, i, str(val), va='center', fontsize=10, color='black')\n",
    "\n",
    "plt.title(\"Top 10 Six Hitters (Lollipop Chart)\", fontsize=14)\n",
    "plt.xlabel(\"Number of Sixes\")\n",
    "plt.ylabel(\"Batter\")\n",
    "plt.grid(axis='x', linestyle='--', alpha=0.7)\n",
    "plt.tight_layout()\n",
    "plt.show()\n"
   ]
  },
  {
   "cell_type": "code",
   "execution_count": null,
   "id": "183ad0b8",
   "metadata": {},
   "outputs": [
    {
     "data": {
      "application/vnd.plotly.v1+json": {
       "config": {
        "plotlyServerURL": "https://plot.ly"
       },
       "data": [
        {
         "domain": {
          "x": [
           0,
           1
          ],
          "y": [
           0,
           1
          ]
         },
         "hole": 0.4,
         "hovertemplate": "bowler=%{label}<br>dot_balls=%{value}<extra></extra>",
         "labels": [
          "B Kumar",
          "SP Narine",
          "R Ashwin",
          "PP Chawla",
          "JJ Bumrah",
          "RA Jadeja",
          "Harbhajan Singh",
          "YS Chahal",
          "UT Yadav",
          "A Mishra"
         ],
         "legendgroup": "",
         "name": "",
         "showlegend": true,
         "textinfo": "label+value+percent",
         "textposition": "inside",
         "type": "pie",
         "values": {
          "bdata": "vwZtBkYGLQUrBQcF7wToBKIEoQQ=",
          "dtype": "i2"
         }
        }
       ],
       "layout": {
        "legend": {
         "tracegroupgap": 0
        },
        "showlegend": true,
        "template": {
         "data": {
          "bar": [
           {
            "error_x": {
             "color": "#2a3f5f"
            },
            "error_y": {
             "color": "#2a3f5f"
            },
            "marker": {
             "line": {
              "color": "#E5ECF6",
              "width": 0.5
             },
             "pattern": {
              "fillmode": "overlay",
              "size": 10,
              "solidity": 0.2
             }
            },
            "type": "bar"
           }
          ],
          "barpolar": [
           {
            "marker": {
             "line": {
              "color": "#E5ECF6",
              "width": 0.5
             },
             "pattern": {
              "fillmode": "overlay",
              "size": 10,
              "solidity": 0.2
             }
            },
            "type": "barpolar"
           }
          ],
          "carpet": [
           {
            "aaxis": {
             "endlinecolor": "#2a3f5f",
             "gridcolor": "white",
             "linecolor": "white",
             "minorgridcolor": "white",
             "startlinecolor": "#2a3f5f"
            },
            "baxis": {
             "endlinecolor": "#2a3f5f",
             "gridcolor": "white",
             "linecolor": "white",
             "minorgridcolor": "white",
             "startlinecolor": "#2a3f5f"
            },
            "type": "carpet"
           }
          ],
          "choropleth": [
           {
            "colorbar": {
             "outlinewidth": 0,
             "ticks": ""
            },
            "type": "choropleth"
           }
          ],
          "contour": [
           {
            "colorbar": {
             "outlinewidth": 0,
             "ticks": ""
            },
            "colorscale": [
             [
              0,
              "#0d0887"
             ],
             [
              0.1111111111111111,
              "#46039f"
             ],
             [
              0.2222222222222222,
              "#7201a8"
             ],
             [
              0.3333333333333333,
              "#9c179e"
             ],
             [
              0.4444444444444444,
              "#bd3786"
             ],
             [
              0.5555555555555556,
              "#d8576b"
             ],
             [
              0.6666666666666666,
              "#ed7953"
             ],
             [
              0.7777777777777778,
              "#fb9f3a"
             ],
             [
              0.8888888888888888,
              "#fdca26"
             ],
             [
              1,
              "#f0f921"
             ]
            ],
            "type": "contour"
           }
          ],
          "contourcarpet": [
           {
            "colorbar": {
             "outlinewidth": 0,
             "ticks": ""
            },
            "type": "contourcarpet"
           }
          ],
          "heatmap": [
           {
            "colorbar": {
             "outlinewidth": 0,
             "ticks": ""
            },
            "colorscale": [
             [
              0,
              "#0d0887"
             ],
             [
              0.1111111111111111,
              "#46039f"
             ],
             [
              0.2222222222222222,
              "#7201a8"
             ],
             [
              0.3333333333333333,
              "#9c179e"
             ],
             [
              0.4444444444444444,
              "#bd3786"
             ],
             [
              0.5555555555555556,
              "#d8576b"
             ],
             [
              0.6666666666666666,
              "#ed7953"
             ],
             [
              0.7777777777777778,
              "#fb9f3a"
             ],
             [
              0.8888888888888888,
              "#fdca26"
             ],
             [
              1,
              "#f0f921"
             ]
            ],
            "type": "heatmap"
           }
          ],
          "histogram": [
           {
            "marker": {
             "pattern": {
              "fillmode": "overlay",
              "size": 10,
              "solidity": 0.2
             }
            },
            "type": "histogram"
           }
          ],
          "histogram2d": [
           {
            "colorbar": {
             "outlinewidth": 0,
             "ticks": ""
            },
            "colorscale": [
             [
              0,
              "#0d0887"
             ],
             [
              0.1111111111111111,
              "#46039f"
             ],
             [
              0.2222222222222222,
              "#7201a8"
             ],
             [
              0.3333333333333333,
              "#9c179e"
             ],
             [
              0.4444444444444444,
              "#bd3786"
             ],
             [
              0.5555555555555556,
              "#d8576b"
             ],
             [
              0.6666666666666666,
              "#ed7953"
             ],
             [
              0.7777777777777778,
              "#fb9f3a"
             ],
             [
              0.8888888888888888,
              "#fdca26"
             ],
             [
              1,
              "#f0f921"
             ]
            ],
            "type": "histogram2d"
           }
          ],
          "histogram2dcontour": [
           {
            "colorbar": {
             "outlinewidth": 0,
             "ticks": ""
            },
            "colorscale": [
             [
              0,
              "#0d0887"
             ],
             [
              0.1111111111111111,
              "#46039f"
             ],
             [
              0.2222222222222222,
              "#7201a8"
             ],
             [
              0.3333333333333333,
              "#9c179e"
             ],
             [
              0.4444444444444444,
              "#bd3786"
             ],
             [
              0.5555555555555556,
              "#d8576b"
             ],
             [
              0.6666666666666666,
              "#ed7953"
             ],
             [
              0.7777777777777778,
              "#fb9f3a"
             ],
             [
              0.8888888888888888,
              "#fdca26"
             ],
             [
              1,
              "#f0f921"
             ]
            ],
            "type": "histogram2dcontour"
           }
          ],
          "mesh3d": [
           {
            "colorbar": {
             "outlinewidth": 0,
             "ticks": ""
            },
            "type": "mesh3d"
           }
          ],
          "parcoords": [
           {
            "line": {
             "colorbar": {
              "outlinewidth": 0,
              "ticks": ""
             }
            },
            "type": "parcoords"
           }
          ],
          "pie": [
           {
            "automargin": true,
            "type": "pie"
           }
          ],
          "scatter": [
           {
            "fillpattern": {
             "fillmode": "overlay",
             "size": 10,
             "solidity": 0.2
            },
            "type": "scatter"
           }
          ],
          "scatter3d": [
           {
            "line": {
             "colorbar": {
              "outlinewidth": 0,
              "ticks": ""
             }
            },
            "marker": {
             "colorbar": {
              "outlinewidth": 0,
              "ticks": ""
             }
            },
            "type": "scatter3d"
           }
          ],
          "scattercarpet": [
           {
            "marker": {
             "colorbar": {
              "outlinewidth": 0,
              "ticks": ""
             }
            },
            "type": "scattercarpet"
           }
          ],
          "scattergeo": [
           {
            "marker": {
             "colorbar": {
              "outlinewidth": 0,
              "ticks": ""
             }
            },
            "type": "scattergeo"
           }
          ],
          "scattergl": [
           {
            "marker": {
             "colorbar": {
              "outlinewidth": 0,
              "ticks": ""
             }
            },
            "type": "scattergl"
           }
          ],
          "scattermap": [
           {
            "marker": {
             "colorbar": {
              "outlinewidth": 0,
              "ticks": ""
             }
            },
            "type": "scattermap"
           }
          ],
          "scattermapbox": [
           {
            "marker": {
             "colorbar": {
              "outlinewidth": 0,
              "ticks": ""
             }
            },
            "type": "scattermapbox"
           }
          ],
          "scatterpolar": [
           {
            "marker": {
             "colorbar": {
              "outlinewidth": 0,
              "ticks": ""
             }
            },
            "type": "scatterpolar"
           }
          ],
          "scatterpolargl": [
           {
            "marker": {
             "colorbar": {
              "outlinewidth": 0,
              "ticks": ""
             }
            },
            "type": "scatterpolargl"
           }
          ],
          "scatterternary": [
           {
            "marker": {
             "colorbar": {
              "outlinewidth": 0,
              "ticks": ""
             }
            },
            "type": "scatterternary"
           }
          ],
          "surface": [
           {
            "colorbar": {
             "outlinewidth": 0,
             "ticks": ""
            },
            "colorscale": [
             [
              0,
              "#0d0887"
             ],
             [
              0.1111111111111111,
              "#46039f"
             ],
             [
              0.2222222222222222,
              "#7201a8"
             ],
             [
              0.3333333333333333,
              "#9c179e"
             ],
             [
              0.4444444444444444,
              "#bd3786"
             ],
             [
              0.5555555555555556,
              "#d8576b"
             ],
             [
              0.6666666666666666,
              "#ed7953"
             ],
             [
              0.7777777777777778,
              "#fb9f3a"
             ],
             [
              0.8888888888888888,
              "#fdca26"
             ],
             [
              1,
              "#f0f921"
             ]
            ],
            "type": "surface"
           }
          ],
          "table": [
           {
            "cells": {
             "fill": {
              "color": "#EBF0F8"
             },
             "line": {
              "color": "white"
             }
            },
            "header": {
             "fill": {
              "color": "#C8D4E3"
             },
             "line": {
              "color": "white"
             }
            },
            "type": "table"
           }
          ]
         },
         "layout": {
          "annotationdefaults": {
           "arrowcolor": "#2a3f5f",
           "arrowhead": 0,
           "arrowwidth": 1
          },
          "autotypenumbers": "strict",
          "coloraxis": {
           "colorbar": {
            "outlinewidth": 0,
            "ticks": ""
           }
          },
          "colorscale": {
           "diverging": [
            [
             0,
             "#8e0152"
            ],
            [
             0.1,
             "#c51b7d"
            ],
            [
             0.2,
             "#de77ae"
            ],
            [
             0.3,
             "#f1b6da"
            ],
            [
             0.4,
             "#fde0ef"
            ],
            [
             0.5,
             "#f7f7f7"
            ],
            [
             0.6,
             "#e6f5d0"
            ],
            [
             0.7,
             "#b8e186"
            ],
            [
             0.8,
             "#7fbc41"
            ],
            [
             0.9,
             "#4d9221"
            ],
            [
             1,
             "#276419"
            ]
           ],
           "sequential": [
            [
             0,
             "#0d0887"
            ],
            [
             0.1111111111111111,
             "#46039f"
            ],
            [
             0.2222222222222222,
             "#7201a8"
            ],
            [
             0.3333333333333333,
             "#9c179e"
            ],
            [
             0.4444444444444444,
             "#bd3786"
            ],
            [
             0.5555555555555556,
             "#d8576b"
            ],
            [
             0.6666666666666666,
             "#ed7953"
            ],
            [
             0.7777777777777778,
             "#fb9f3a"
            ],
            [
             0.8888888888888888,
             "#fdca26"
            ],
            [
             1,
             "#f0f921"
            ]
           ],
           "sequentialminus": [
            [
             0,
             "#0d0887"
            ],
            [
             0.1111111111111111,
             "#46039f"
            ],
            [
             0.2222222222222222,
             "#7201a8"
            ],
            [
             0.3333333333333333,
             "#9c179e"
            ],
            [
             0.4444444444444444,
             "#bd3786"
            ],
            [
             0.5555555555555556,
             "#d8576b"
            ],
            [
             0.6666666666666666,
             "#ed7953"
            ],
            [
             0.7777777777777778,
             "#fb9f3a"
            ],
            [
             0.8888888888888888,
             "#fdca26"
            ],
            [
             1,
             "#f0f921"
            ]
           ]
          },
          "colorway": [
           "#636efa",
           "#EF553B",
           "#00cc96",
           "#ab63fa",
           "#FFA15A",
           "#19d3f3",
           "#FF6692",
           "#B6E880",
           "#FF97FF",
           "#FECB52"
          ],
          "font": {
           "color": "#2a3f5f"
          },
          "geo": {
           "bgcolor": "white",
           "lakecolor": "white",
           "landcolor": "#E5ECF6",
           "showlakes": true,
           "showland": true,
           "subunitcolor": "white"
          },
          "hoverlabel": {
           "align": "left"
          },
          "hovermode": "closest",
          "mapbox": {
           "style": "light"
          },
          "paper_bgcolor": "white",
          "plot_bgcolor": "#E5ECF6",
          "polar": {
           "angularaxis": {
            "gridcolor": "white",
            "linecolor": "white",
            "ticks": ""
           },
           "bgcolor": "#E5ECF6",
           "radialaxis": {
            "gridcolor": "white",
            "linecolor": "white",
            "ticks": ""
           }
          },
          "scene": {
           "xaxis": {
            "backgroundcolor": "#E5ECF6",
            "gridcolor": "white",
            "gridwidth": 2,
            "linecolor": "white",
            "showbackground": true,
            "ticks": "",
            "zerolinecolor": "white"
           },
           "yaxis": {
            "backgroundcolor": "#E5ECF6",
            "gridcolor": "white",
            "gridwidth": 2,
            "linecolor": "white",
            "showbackground": true,
            "ticks": "",
            "zerolinecolor": "white"
           },
           "zaxis": {
            "backgroundcolor": "#E5ECF6",
            "gridcolor": "white",
            "gridwidth": 2,
            "linecolor": "white",
            "showbackground": true,
            "ticks": "",
            "zerolinecolor": "white"
           }
          },
          "shapedefaults": {
           "line": {
            "color": "#2a3f5f"
           }
          },
          "ternary": {
           "aaxis": {
            "gridcolor": "white",
            "linecolor": "white",
            "ticks": ""
           },
           "baxis": {
            "gridcolor": "white",
            "linecolor": "white",
            "ticks": ""
           },
           "bgcolor": "#E5ECF6",
           "caxis": {
            "gridcolor": "white",
            "linecolor": "white",
            "ticks": ""
           }
          },
          "title": {
           "x": 0.05
          },
          "xaxis": {
           "automargin": true,
           "gridcolor": "white",
           "linecolor": "white",
           "ticks": "",
           "title": {
            "standoff": 15
           },
           "zerolinecolor": "white",
           "zerolinewidth": 2
          },
          "yaxis": {
           "automargin": true,
           "gridcolor": "white",
           "linecolor": "white",
           "ticks": "",
           "title": {
            "standoff": 15
           },
           "zerolinecolor": "white",
           "zerolinewidth": 2
          }
         }
        },
        "title": {
         "text": "Dot Balls Contribution (Top 10 Bowlers)"
        }
       }
      }
     },
     "metadata": {},
     "output_type": "display_data"
    }
   ],
   "source": [
    "# Dot Balls by Bowler - Donut Chart with number + percent(Plotly)\n",
    "fig = px.pie(\n",
    "    dfs[\"Dot Balls by Bowler\"],\n",
    "    values='dot_balls',\n",
    "    names='bowler',\n",
    "    hole=0.4,\n",
    "    title=\"Dot Balls Contribution (Top 10 Bowlers)\",\n",
    ")\n",
    "\n",
    "fig.update_traces(\n",
    "    textposition='inside',\n",
    "    textinfo='label+value+percent'\n",
    ")\n",
    "fig.update_layout(showlegend=True)\n",
    "fig.show()\n"
   ]
  },
  {
   "cell_type": "markdown",
   "id": "b0dc89a2",
   "metadata": {},
   "source": [
    "T20s Match data"
   ]
  },
  {
   "cell_type": "code",
   "execution_count": 1,
   "id": "09b1b6e8",
   "metadata": {},
   "outputs": [
    {
     "name": "stdout",
     "output_type": "stream",
     "text": [
      "   season     city                     venue        date  \\\n",
      "0    2017  Unknown  Melbourne Cricket Ground  2017-02-17   \n",
      "1    2017  Unknown  Melbourne Cricket Ground  2017-02-17   \n",
      "2    2017  Unknown  Melbourne Cricket Ground  2017-02-17   \n",
      "3    2017  Unknown  Melbourne Cricket Ground  2017-02-17   \n",
      "4    2017  Unknown  Melbourne Cricket Ground  2017-02-17   \n",
      "\n",
      "                           event_name match_type     result player_of_match  \\\n",
      "0  Sri Lanka in Australia T20I Series        T20  Sri Lanka   DAS Gunaratne   \n",
      "1  Sri Lanka in Australia T20I Series        T20  Sri Lanka   DAS Gunaratne   \n",
      "2  Sri Lanka in Australia T20I Series        T20  Sri Lanka   DAS Gunaratne   \n",
      "3  Sri Lanka in Australia T20I Series        T20  Sri Lanka   DAS Gunaratne   \n",
      "4  Sri Lanka in Australia T20I Series        T20  Sri Lanka   DAS Gunaratne   \n",
      "\n",
      "        team batting_team  ... runs_batter  runs_extras  runs_total wides  \\\n",
      "0  Australia    Australia  ...           0            0           0     0   \n",
      "1  Australia    Australia  ...           0            0           0     0   \n",
      "2  Australia    Australia  ...           1            0           1     0   \n",
      "3  Australia    Australia  ...           2            0           2     0   \n",
      "4  Australia    Australia  ...           0            0           0     0   \n",
      "\n",
      "  noballs byes  legbyes  wicket_type  player_dismissed  out  \n",
      "0       0    0        0         None              None    0  \n",
      "1       0    0        0         None              None    0  \n",
      "2       0    0        0         None              None    0  \n",
      "3       0    0        0         None              None    0  \n",
      "4       0    0        0         None              None    0  \n",
      "\n",
      "[5 rows x 26 columns]\n"
     ]
    }
   ],
   "source": [
    "import os\n",
    "import json\n",
    "import pandas as pd\n",
    "\n",
    "# Directory containing IPL JSON files\n",
    "json_dir = r\"C:\\Users\\MOHAMED RAZIK\\Desktop\\My_code\\CricSheet\\t20s_male_json\"\n",
    "json_files = [f for f in os.listdir(json_dir) if f.endswith('.json')]\n",
    "\n",
    "all_deliveries = []\n",
    "\n",
    "# Loop through each JSON match file\n",
    "for json_file in json_files:\n",
    "    file_path = os.path.join(json_dir, json_file)\n",
    "    with open(file_path, 'r') as f:\n",
    "        data = json.load(f)\n",
    "\n",
    "        # Extract general match info\n",
    "        city = data['info'].get('city', 'Unknown')\n",
    "        date = data['info']['dates'][0]\n",
    "        season = pd.to_datetime(date).year\n",
    "        event_name = data['info'].get('event', {}).get('name', 'Unknown')\n",
    "        match_type = data['info']['match_type']\n",
    "        venue = data['info'].get('venue', 'Unknown')\n",
    "\n",
    "        # Match result\n",
    "        if 'result' in data['info']['outcome']:\n",
    "            result = data['info']['outcome']['result']\n",
    "        elif 'winner' in data['info']['outcome']:\n",
    "            result = data['info']['outcome']['winner']\n",
    "        else:\n",
    "            result = 'Unknown'\n",
    "\n",
    "        player_of_match = data['info'].get('player_of_match', ['Unknown'])[0]\n",
    "        teams = data['info'].get('teams', [])\n",
    "\n",
    "        # Process innings\n",
    "        if 'innings' in data:\n",
    "            for i, inning in enumerate(data['innings']):\n",
    "                batting_team = inning['team']\n",
    "                bowling_team = teams[1] if teams[0] == batting_team else teams[0]\n",
    "\n",
    "                if 'overs' in inning:\n",
    "                    for over_data in inning['overs']:\n",
    "                        over_number = over_data['over']\n",
    "                        legal_ball_count = 0  # Reset for each over\n",
    "\n",
    "                        if 'deliveries' in over_data:\n",
    "                            for delivery in over_data['deliveries']:\n",
    "                                # Ball number logic (legal balls only)\n",
    "                                is_wide = delivery.get('extras', {}).get('wides', 0)\n",
    "                                is_noball = delivery.get('extras', {}).get('noballs', 0)\n",
    "\n",
    "                                # Use same ball number if it's an extra\n",
    "                                if is_wide or is_noball:\n",
    "                                    ball = round(over_number + ((legal_ball_count + 1) / 10), 1)\n",
    "                                else:\n",
    "                                    legal_ball_count += 1\n",
    "                                    ball = round(over_number + (legal_ball_count / 10), 1)\n",
    "\n",
    "                                # Basic delivery data\n",
    "                                batter = delivery['batter']\n",
    "                                bowler = delivery['bowler']\n",
    "                                non_striker = delivery['non_striker']\n",
    "                                runs_batter = delivery['runs']['batter']\n",
    "                                runs_extras = delivery['runs']['extras']\n",
    "                                runs_total = delivery['runs']['total']\n",
    "\n",
    "                                # Extras\n",
    "                                wides = delivery.get('extras', {}).get('wides', 0)\n",
    "                                noballs = delivery.get('extras', {}).get('noballs', 0)\n",
    "                                byes = delivery.get('extras', {}).get('byes', 0)\n",
    "                                legbyes = delivery.get('extras', {}).get('legbyes', 0)\n",
    "\n",
    "                                # Wicket info\n",
    "                                wicket_type = None\n",
    "                                player_dismissed = None\n",
    "                                out = 0\n",
    "                                if 'wickets' in delivery:\n",
    "                                    for w in delivery['wickets']:\n",
    "                                        wicket_type = w.get('kind')\n",
    "                                        player_dismissed = w.get('player_out')\n",
    "                                        out = 1\n",
    "\n",
    "                                # Add to final delivery list\n",
    "                                all_deliveries.append({\n",
    "                                    'season': season,\n",
    "                                    'city': city,\n",
    "                                    'venue': venue,\n",
    "                                    'date': date,\n",
    "                                    'event_name': event_name,\n",
    "                                    'match_type': match_type,\n",
    "                                    'result': result,\n",
    "                                    'player_of_match': player_of_match,\n",
    "                                    'team': batting_team,\n",
    "                                    'batting_team': batting_team,\n",
    "                                    'bowling_team': bowling_team,\n",
    "                                    'over': over_number,\n",
    "                                    'ball': ball,\n",
    "                                    'batter': batter,\n",
    "                                    'bowler': bowler,\n",
    "                                    'non_striker': non_striker,\n",
    "                                    'runs_batter': runs_batter,\n",
    "                                    'runs_extras': runs_extras,\n",
    "                                    'runs_total': runs_total,\n",
    "                                    'wides': wides,\n",
    "                                    'noballs': noballs,\n",
    "                                    'byes': byes,\n",
    "                                    'legbyes': legbyes,\n",
    "                                    'wicket_type': wicket_type,\n",
    "                                    'player_dismissed': player_dismissed,\n",
    "                                    'out': out\n",
    "                                })\n",
    "\n",
    "# ✅ Convert to DataFrame\n",
    "df = pd.DataFrame(all_deliveries)\n",
    "\n",
    "# ✅ Preview\n",
    "print(df.head())\n"
   ]
  },
  {
   "cell_type": "code",
   "execution_count": 2,
   "id": "9f9b57a9",
   "metadata": {},
   "outputs": [
    {
     "data": {
      "text/plain": [
       "season                   0\n",
       "city                     0\n",
       "venue                    0\n",
       "date                     0\n",
       "event_name               0\n",
       "match_type               0\n",
       "result                   0\n",
       "player_of_match          0\n",
       "team                     0\n",
       "batting_team             0\n",
       "bowling_team             0\n",
       "over                     0\n",
       "ball                     0\n",
       "batter                   0\n",
       "bowler                   0\n",
       "non_striker              0\n",
       "runs_batter              0\n",
       "runs_extras              0\n",
       "runs_total               0\n",
       "wides                    0\n",
       "noballs                  0\n",
       "byes                     0\n",
       "legbyes                  0\n",
       "wicket_type         571712\n",
       "player_dismissed    571712\n",
       "out                      0\n",
       "dtype: int64"
      ]
     },
     "execution_count": 2,
     "metadata": {},
     "output_type": "execute_result"
    }
   ],
   "source": [
    "df.isnull().sum()"
   ]
  },
  {
   "cell_type": "code",
   "execution_count": 3,
   "id": "40fcad6b",
   "metadata": {},
   "outputs": [],
   "source": [
    "df.to_csv(\"cricket_data_t20.csv\", index= False)"
   ]
  },
  {
   "cell_type": "code",
   "execution_count": 4,
   "id": "b7598ff2",
   "metadata": {},
   "outputs": [
    {
     "name": "stdout",
     "output_type": "stream",
     "text": [
      "Table 't20' created successfully with 27 columns.\n"
     ]
    }
   ],
   "source": [
    "import mysql.connector\n",
    "\n",
    "# Connect to MySQL database\n",
    "mydb = mysql.connector.connect(\n",
    "    host=\"localhost\",\n",
    "    user=\"root\",\n",
    "    password=\"Mysql@4321\",\n",
    "    database=\"cricket_db\"\n",
    ")\n",
    "\n",
    "mycursor = mydb.cursor()\n",
    "\n",
    "# Create table with all 27 columns (including id as primary key)\n",
    "create_table_query = \"\"\"\n",
    "CREATE TABLE IF NOT EXISTS t20 (\n",
    "    id INT AUTO_INCREMENT PRIMARY KEY,           -- Unique row identifier\n",
    "    season INT,                                   -- Extracted year from match date\n",
    "    city VARCHAR(255),                            -- Match city\n",
    "    venue VARCHAR(255),                           -- Match venue/stadium\n",
    "    date DATE,                                    -- Match date\n",
    "    event_name VARCHAR(255),                      -- Event name (e.g., T20)\n",
    "    match_type VARCHAR(50),                       -- Match type (e.g., T20)\n",
    "    result VARCHAR(255),                          -- Match result\n",
    "    player_of_match VARCHAR(255),                 -- Player of the match\n",
    "    team VARCHAR(255),                            -- Innings team (batting)\n",
    "    batting_team VARCHAR(255),                    -- Same as team (explicit)\n",
    "    bowling_team VARCHAR(255),                    -- Opponent team\n",
    "    `over` INT,                                   -- Over number\n",
    "    ball FLOAT,                                   -- Ball number like 5.1, 7.6\n",
    "    batter VARCHAR(255),                          -- Striker\n",
    "    bowler VARCHAR(255),                          -- Bowler\n",
    "    non_striker VARCHAR(255),                     -- Non-striker\n",
    "    runs_batter INT,                              -- Runs scored by batter\n",
    "    runs_extras INT,                              -- Extras (wides, legbyes, etc.)\n",
    "    runs_total INT,                               -- Total runs from that ball\n",
    "    wides INT,                                     -- Wide runs\n",
    "    noballs INT,                                   -- No-ball runs\n",
    "    byes INT,                                      -- Bye runs\n",
    "    legbyes INT,                                   -- Legbye runs\n",
    "    wicket_type VARCHAR(50),                      -- Type of wicket (caught, bowled, etc.)\n",
    "    player_dismissed VARCHAR(255),                -- Player who got out\n",
    "    `out` TINYINT                                  -- 1 if wicket fell, 0 otherwise\n",
    ")\n",
    "\"\"\"\n",
    "\n",
    "# Execute and commit the table creation\n",
    "mycursor.execute(create_table_query)\n",
    "mydb.commit()\n",
    "\n",
    "print(\"Table 't20' created successfully with 27 columns.\")\n"
   ]
  },
  {
   "cell_type": "code",
   "execution_count": 5,
   "id": "f42b5a30",
   "metadata": {},
   "outputs": [
    {
     "name": "stdout",
     "output_type": "stream",
     "text": [
      "Starting insertion of 606193 rows in batches of 5000...\n",
      "✅ Inserted batch 1 (5000 rows)\n",
      "✅ Inserted batch 2 (5000 rows)\n",
      "✅ Inserted batch 3 (5000 rows)\n",
      "✅ Inserted batch 4 (5000 rows)\n",
      "✅ Inserted batch 5 (5000 rows)\n",
      "✅ Inserted batch 6 (5000 rows)\n",
      "✅ Inserted batch 7 (5000 rows)\n",
      "✅ Inserted batch 8 (5000 rows)\n",
      "✅ Inserted batch 9 (5000 rows)\n",
      "✅ Inserted batch 10 (5000 rows)\n",
      "✅ Inserted batch 11 (5000 rows)\n",
      "✅ Inserted batch 12 (5000 rows)\n",
      "✅ Inserted batch 13 (5000 rows)\n",
      "✅ Inserted batch 14 (5000 rows)\n",
      "✅ Inserted batch 15 (5000 rows)\n",
      "✅ Inserted batch 16 (5000 rows)\n",
      "✅ Inserted batch 17 (5000 rows)\n",
      "✅ Inserted batch 18 (5000 rows)\n",
      "✅ Inserted batch 19 (5000 rows)\n",
      "✅ Inserted batch 20 (5000 rows)\n",
      "✅ Inserted batch 21 (5000 rows)\n",
      "✅ Inserted batch 22 (5000 rows)\n",
      "✅ Inserted batch 23 (5000 rows)\n",
      "✅ Inserted batch 24 (5000 rows)\n",
      "✅ Inserted batch 25 (5000 rows)\n",
      "✅ Inserted batch 26 (5000 rows)\n",
      "✅ Inserted batch 27 (5000 rows)\n",
      "✅ Inserted batch 28 (5000 rows)\n",
      "✅ Inserted batch 29 (5000 rows)\n",
      "✅ Inserted batch 30 (5000 rows)\n",
      "✅ Inserted batch 31 (5000 rows)\n",
      "✅ Inserted batch 32 (5000 rows)\n",
      "✅ Inserted batch 33 (5000 rows)\n",
      "✅ Inserted batch 34 (5000 rows)\n",
      "✅ Inserted batch 35 (5000 rows)\n",
      "✅ Inserted batch 36 (5000 rows)\n",
      "✅ Inserted batch 37 (5000 rows)\n",
      "✅ Inserted batch 38 (5000 rows)\n",
      "✅ Inserted batch 39 (5000 rows)\n",
      "✅ Inserted batch 40 (5000 rows)\n",
      "✅ Inserted batch 41 (5000 rows)\n",
      "✅ Inserted batch 42 (5000 rows)\n",
      "✅ Inserted batch 43 (5000 rows)\n",
      "✅ Inserted batch 44 (5000 rows)\n",
      "✅ Inserted batch 45 (5000 rows)\n",
      "✅ Inserted batch 46 (5000 rows)\n",
      "✅ Inserted batch 47 (5000 rows)\n",
      "✅ Inserted batch 48 (5000 rows)\n",
      "✅ Inserted batch 49 (5000 rows)\n",
      "✅ Inserted batch 50 (5000 rows)\n",
      "✅ Inserted batch 51 (5000 rows)\n",
      "✅ Inserted batch 52 (5000 rows)\n",
      "✅ Inserted batch 53 (5000 rows)\n",
      "✅ Inserted batch 54 (5000 rows)\n",
      "✅ Inserted batch 55 (5000 rows)\n",
      "✅ Inserted batch 56 (5000 rows)\n",
      "✅ Inserted batch 57 (5000 rows)\n",
      "✅ Inserted batch 58 (5000 rows)\n",
      "✅ Inserted batch 59 (5000 rows)\n",
      "✅ Inserted batch 60 (5000 rows)\n",
      "✅ Inserted batch 61 (5000 rows)\n",
      "✅ Inserted batch 62 (5000 rows)\n",
      "✅ Inserted batch 63 (5000 rows)\n",
      "✅ Inserted batch 64 (5000 rows)\n",
      "✅ Inserted batch 65 (5000 rows)\n",
      "✅ Inserted batch 66 (5000 rows)\n",
      "✅ Inserted batch 67 (5000 rows)\n",
      "✅ Inserted batch 68 (5000 rows)\n",
      "✅ Inserted batch 69 (5000 rows)\n",
      "✅ Inserted batch 70 (5000 rows)\n",
      "✅ Inserted batch 71 (5000 rows)\n",
      "✅ Inserted batch 72 (5000 rows)\n",
      "✅ Inserted batch 73 (5000 rows)\n",
      "✅ Inserted batch 74 (5000 rows)\n",
      "✅ Inserted batch 75 (5000 rows)\n",
      "✅ Inserted batch 76 (5000 rows)\n",
      "✅ Inserted batch 77 (5000 rows)\n",
      "✅ Inserted batch 78 (5000 rows)\n",
      "✅ Inserted batch 79 (5000 rows)\n",
      "✅ Inserted batch 80 (5000 rows)\n",
      "✅ Inserted batch 81 (5000 rows)\n",
      "✅ Inserted batch 82 (5000 rows)\n",
      "✅ Inserted batch 83 (5000 rows)\n",
      "✅ Inserted batch 84 (5000 rows)\n",
      "✅ Inserted batch 85 (5000 rows)\n",
      "✅ Inserted batch 86 (5000 rows)\n",
      "✅ Inserted batch 87 (5000 rows)\n",
      "✅ Inserted batch 88 (5000 rows)\n",
      "✅ Inserted batch 89 (5000 rows)\n",
      "✅ Inserted batch 90 (5000 rows)\n",
      "✅ Inserted batch 91 (5000 rows)\n",
      "✅ Inserted batch 92 (5000 rows)\n",
      "✅ Inserted batch 93 (5000 rows)\n",
      "✅ Inserted batch 94 (5000 rows)\n",
      "✅ Inserted batch 95 (5000 rows)\n",
      "✅ Inserted batch 96 (5000 rows)\n",
      "✅ Inserted batch 97 (5000 rows)\n",
      "✅ Inserted batch 98 (5000 rows)\n",
      "✅ Inserted batch 99 (5000 rows)\n",
      "✅ Inserted batch 100 (5000 rows)\n",
      "✅ Inserted batch 101 (5000 rows)\n",
      "✅ Inserted batch 102 (5000 rows)\n",
      "✅ Inserted batch 103 (5000 rows)\n",
      "✅ Inserted batch 104 (5000 rows)\n",
      "✅ Inserted batch 105 (5000 rows)\n",
      "✅ Inserted batch 106 (5000 rows)\n",
      "✅ Inserted batch 107 (5000 rows)\n",
      "✅ Inserted batch 108 (5000 rows)\n",
      "✅ Inserted batch 109 (5000 rows)\n",
      "✅ Inserted batch 110 (5000 rows)\n",
      "✅ Inserted batch 111 (5000 rows)\n",
      "✅ Inserted batch 112 (5000 rows)\n",
      "✅ Inserted batch 113 (5000 rows)\n",
      "✅ Inserted batch 114 (5000 rows)\n",
      "✅ Inserted batch 115 (5000 rows)\n",
      "✅ Inserted batch 116 (5000 rows)\n",
      "✅ Inserted batch 117 (5000 rows)\n",
      "✅ Inserted batch 118 (5000 rows)\n",
      "✅ Inserted batch 119 (5000 rows)\n",
      "✅ Inserted batch 120 (5000 rows)\n",
      "✅ Inserted batch 121 (5000 rows)\n",
      "✅ Inserted batch 122 (1193 rows)\n",
      "🎉 Data insertion completed successfully!\n"
     ]
    }
   ],
   "source": [
    "import pandas as pd\n",
    "import mysql.connector\n",
    "import numpy as np\n",
    "\n",
    "# ✅ Load the CSV\n",
    "csv_path = r\"C:\\Users\\MOHAMED RAZIK\\Desktop\\My_code\\Project2\\cricket_data_t20.csv\"\n",
    "df = pd.read_csv(csv_path)\n",
    "\n",
    "# ✅ Replace NaN (pandas) with None (Python native null) — needed for MySQL\n",
    "df = df.replace({np.nan: None})\n",
    "\n",
    "# ✅ Convert DataFrame to list of tuples\n",
    "data = [tuple(row) for row in df.itertuples(index=False, name=None)]\n",
    "\n",
    "# ✅ Connect to MySQL\n",
    "mydb = mysql.connector.connect(\n",
    "    host='localhost',\n",
    "    user='root',\n",
    "    password='Mysql@4321',\n",
    "    database='cricket_db'\n",
    ")\n",
    "mycursor = mydb.cursor()\n",
    "\n",
    "# ✅ INSERT query for all 26 columns (excluding auto-increment id)\n",
    "insert_query = \"\"\"\n",
    "INSERT INTO t20 (\n",
    "    season, city, venue, date, event_name, match_type, result, player_of_match,\n",
    "    team, batting_team, bowling_team, `over`, ball, batter, bowler, non_striker,\n",
    "    runs_batter, runs_extras, runs_total, wides, noballs, byes, legbyes,\n",
    "    wicket_type, player_dismissed, `out`\n",
    ")\n",
    "VALUES (\n",
    "    %s, %s, %s, %s, %s, %s, %s, %s,\n",
    "    %s, %s, %s, %s, %s, %s, %s, %s,\n",
    "    %s, %s, %s, %s, %s, %s, %s,\n",
    "    %s, %s, %s\n",
    ")\n",
    "\"\"\"\n",
    "\n",
    "# ✅ Batch insert\n",
    "batch_size = 5000\n",
    "total_rows = len(data)\n",
    "print(f\"Starting insertion of {total_rows} rows in batches of {batch_size}...\")\n",
    "\n",
    "for i in range(0, total_rows, batch_size):\n",
    "    batch = data[i:i + batch_size]\n",
    "    try:\n",
    "        mycursor.executemany(insert_query, batch)\n",
    "        mydb.commit()\n",
    "        print(f\"✅ Inserted batch {i // batch_size + 1} ({len(batch)} rows)\")\n",
    "    except mysql.connector.Error as err:\n",
    "        print(f\"❌ Error in batch {i // batch_size + 1}: {err}\")\n",
    "        mydb.rollback()\n",
    "\n",
    "# ✅ Close connections\n",
    "mycursor.close()\n",
    "mydb.close()\n",
    "print(\"🎉 Data insertion completed successfully!\")\n"
   ]
  },
  {
   "cell_type": "markdown",
   "id": "65861bfa",
   "metadata": {},
   "source": [
    "ODIs Match data"
   ]
  },
  {
   "cell_type": "code",
   "execution_count": 1,
   "id": "94f228c9",
   "metadata": {},
   "outputs": [
    {
     "name": "stdout",
     "output_type": "stream",
     "text": [
      "   season      city                                   venue        date  \\\n",
      "0    2017  Brisbane  Brisbane Cricket Ground, Woolloongabba  2017-01-13   \n",
      "1    2017  Brisbane  Brisbane Cricket Ground, Woolloongabba  2017-01-13   \n",
      "2    2017  Brisbane  Brisbane Cricket Ground, Woolloongabba  2017-01-13   \n",
      "3    2017  Brisbane  Brisbane Cricket Ground, Woolloongabba  2017-01-13   \n",
      "4    2017  Brisbane  Brisbane Cricket Ground, Woolloongabba  2017-01-13   \n",
      "\n",
      "                         event_name match_type     result player_of_match  \\\n",
      "0  Pakistan in Australia ODI Series        ODI  Australia         MS Wade   \n",
      "1  Pakistan in Australia ODI Series        ODI  Australia         MS Wade   \n",
      "2  Pakistan in Australia ODI Series        ODI  Australia         MS Wade   \n",
      "3  Pakistan in Australia ODI Series        ODI  Australia         MS Wade   \n",
      "4  Pakistan in Australia ODI Series        ODI  Australia         MS Wade   \n",
      "\n",
      "        team batting_team  ... runs_batter  runs_extras  runs_total wides  \\\n",
      "0  Australia    Australia  ...           0            0           0     0   \n",
      "1  Australia    Australia  ...           0            0           0     0   \n",
      "2  Australia    Australia  ...           0            0           0     0   \n",
      "3  Australia    Australia  ...           0            0           0     0   \n",
      "4  Australia    Australia  ...           0            1           1     1   \n",
      "\n",
      "  noballs byes  legbyes  wicket_type  player_dismissed  out  \n",
      "0       0    0        0         None              None    0  \n",
      "1       0    0        0         None              None    0  \n",
      "2       0    0        0         None              None    0  \n",
      "3       0    0        0         None              None    0  \n",
      "4       0    0        0         None              None    0  \n",
      "\n",
      "[5 rows x 26 columns]\n"
     ]
    }
   ],
   "source": [
    "import os\n",
    "import json\n",
    "import pandas as pd\n",
    "\n",
    "# Directory containing IPL JSON files\n",
    "json_dir = r\"C:\\Users\\MOHAMED RAZIK\\Desktop\\My_code\\CricSheet\\odis_male_json\"\n",
    "json_files = [f for f in os.listdir(json_dir) if f.endswith('.json')]\n",
    "\n",
    "all_deliveries = []\n",
    "\n",
    "# Loop through each JSON match file\n",
    "for json_file in json_files:\n",
    "    file_path = os.path.join(json_dir, json_file)\n",
    "    with open(file_path, 'r') as f:\n",
    "        data = json.load(f)\n",
    "\n",
    "        # Extract general match info\n",
    "        city = data['info'].get('city', 'Unknown')\n",
    "        date = data['info']['dates'][0]\n",
    "        season = pd.to_datetime(date).year\n",
    "        event_name = data['info'].get('event', {}).get('name', 'Unknown')\n",
    "        match_type = data['info']['match_type']\n",
    "        venue = data['info'].get('venue', 'Unknown')\n",
    "\n",
    "        # Match result\n",
    "        if 'result' in data['info']['outcome']:\n",
    "            result = data['info']['outcome']['result']\n",
    "        elif 'winner' in data['info']['outcome']:\n",
    "            result = data['info']['outcome']['winner']\n",
    "        else:\n",
    "            result = 'Unknown'\n",
    "\n",
    "        player_of_match = data['info'].get('player_of_match', ['Unknown'])[0]\n",
    "        teams = data['info'].get('teams', [])\n",
    "\n",
    "        # Process innings\n",
    "        if 'innings' in data:\n",
    "            for i, inning in enumerate(data['innings']):\n",
    "                batting_team = inning['team']\n",
    "                bowling_team = teams[1] if teams[0] == batting_team else teams[0]\n",
    "\n",
    "                if 'overs' in inning:\n",
    "                    for over_data in inning['overs']:\n",
    "                        over_number = over_data['over']\n",
    "                        legal_ball_count = 0  # Reset for each over\n",
    "\n",
    "                        if 'deliveries' in over_data:\n",
    "                            for delivery in over_data['deliveries']:\n",
    "                                # Ball number logic (legal balls only)\n",
    "                                is_wide = delivery.get('extras', {}).get('wides', 0)\n",
    "                                is_noball = delivery.get('extras', {}).get('noballs', 0)\n",
    "\n",
    "                                # Use same ball number if it's an extra\n",
    "                                if is_wide or is_noball:\n",
    "                                    ball = round(over_number + ((legal_ball_count + 1) / 10), 1)\n",
    "                                else:\n",
    "                                    legal_ball_count += 1\n",
    "                                    ball = round(over_number + (legal_ball_count / 10), 1)\n",
    "\n",
    "                                # Basic delivery data\n",
    "                                batter = delivery['batter']\n",
    "                                bowler = delivery['bowler']\n",
    "                                non_striker = delivery['non_striker']\n",
    "                                runs_batter = delivery['runs']['batter']\n",
    "                                runs_extras = delivery['runs']['extras']\n",
    "                                runs_total = delivery['runs']['total']\n",
    "\n",
    "                                # Extras\n",
    "                                wides = delivery.get('extras', {}).get('wides', 0)\n",
    "                                noballs = delivery.get('extras', {}).get('noballs', 0)\n",
    "                                byes = delivery.get('extras', {}).get('byes', 0)\n",
    "                                legbyes = delivery.get('extras', {}).get('legbyes', 0)\n",
    "\n",
    "                                # Wicket info\n",
    "                                wicket_type = None\n",
    "                                player_dismissed = None\n",
    "                                out = 0\n",
    "                                if 'wickets' in delivery:\n",
    "                                    for w in delivery['wickets']:\n",
    "                                        wicket_type = w.get('kind')\n",
    "                                        player_dismissed = w.get('player_out')\n",
    "                                        out = 1\n",
    "\n",
    "                                # Add to final delivery list\n",
    "                                all_deliveries.append({\n",
    "                                    'season': season,\n",
    "                                    'city': city,\n",
    "                                    'venue': venue,\n",
    "                                    'date': date,\n",
    "                                    'event_name': event_name,\n",
    "                                    'match_type': match_type,\n",
    "                                    'result': result,\n",
    "                                    'player_of_match': player_of_match,\n",
    "                                    'team': batting_team,\n",
    "                                    'batting_team': batting_team,\n",
    "                                    'bowling_team': bowling_team,\n",
    "                                    'over': over_number,\n",
    "                                    'ball': ball,\n",
    "                                    'batter': batter,\n",
    "                                    'bowler': bowler,\n",
    "                                    'non_striker': non_striker,\n",
    "                                    'runs_batter': runs_batter,\n",
    "                                    'runs_extras': runs_extras,\n",
    "                                    'runs_total': runs_total,\n",
    "                                    'wides': wides,\n",
    "                                    'noballs': noballs,\n",
    "                                    'byes': byes,\n",
    "                                    'legbyes': legbyes,\n",
    "                                    'wicket_type': wicket_type,\n",
    "                                    'player_dismissed': player_dismissed,\n",
    "                                    'out': out\n",
    "                                })\n",
    "\n",
    "# ✅ Convert to DataFrame\n",
    "df = pd.DataFrame(all_deliveries)\n",
    "\n",
    "# ✅ Preview\n",
    "print(df.head())\n"
   ]
  },
  {
   "cell_type": "code",
   "execution_count": 2,
   "id": "176e03d2",
   "metadata": {},
   "outputs": [
    {
     "data": {
      "text/plain": [
       "season                    0\n",
       "city                      0\n",
       "venue                     0\n",
       "date                      0\n",
       "event_name                0\n",
       "match_type                0\n",
       "result                    0\n",
       "player_of_match           0\n",
       "team                      0\n",
       "batting_team              0\n",
       "bowling_team              0\n",
       "over                      0\n",
       "ball                      0\n",
       "batter                    0\n",
       "bowler                    0\n",
       "non_striker               0\n",
       "runs_batter               0\n",
       "runs_extras               0\n",
       "runs_total                0\n",
       "wides                     0\n",
       "noballs                   0\n",
       "byes                      0\n",
       "legbyes                   0\n",
       "wicket_type         1261922\n",
       "player_dismissed    1261922\n",
       "out                       0\n",
       "dtype: int64"
      ]
     },
     "execution_count": 2,
     "metadata": {},
     "output_type": "execute_result"
    }
   ],
   "source": [
    "df.isnull().sum()"
   ]
  },
  {
   "cell_type": "code",
   "execution_count": 3,
   "id": "2f0d0098",
   "metadata": {},
   "outputs": [],
   "source": [
    "df.to_csv(\"cricket_data_odi.csv\", index= False)"
   ]
  },
  {
   "cell_type": "code",
   "execution_count": 5,
   "id": "0fc63f58",
   "metadata": {},
   "outputs": [
    {
     "name": "stdout",
     "output_type": "stream",
     "text": [
      "Table 'odi' created successfully with 27 columns.\n"
     ]
    }
   ],
   "source": [
    "import mysql.connector\n",
    "\n",
    "# Connect to MySQL database\n",
    "mydb = mysql.connector.connect(\n",
    "    host=\"localhost\",\n",
    "    user=\"root\",\n",
    "    password=\"Mysql@4321\",\n",
    "    database=\"cricket_db\"\n",
    ")\n",
    "\n",
    "mycursor = mydb.cursor()\n",
    "\n",
    "# Create table with all 27 columns (including id as primary key)\n",
    "create_table_query = \"\"\"\n",
    "CREATE TABLE IF NOT EXISTS odi (\n",
    "    id INT AUTO_INCREMENT PRIMARY KEY,           -- Unique row identifier\n",
    "    season INT,                                   -- Extracted year from match date\n",
    "    city VARCHAR(255),                            -- Match city\n",
    "    venue VARCHAR(255),                           -- Match venue/stadium\n",
    "    date DATE,                                    -- Match date\n",
    "    event_name VARCHAR(255),                      -- Event name (e.g., odi)\n",
    "    match_type VARCHAR(50),                       -- Match type (e.g., odi)\n",
    "    result VARCHAR(255),                          -- Match result\n",
    "    player_of_match VARCHAR(255),                 -- Player of the match\n",
    "    team VARCHAR(255),                            -- Innings team (batting)\n",
    "    batting_team VARCHAR(255),                    -- Same as team (explicit)\n",
    "    bowling_team VARCHAR(255),                    -- Opponent team\n",
    "    `over` INT,                                   -- Over number\n",
    "    ball FLOAT,                                   -- Ball number like 5.1, 7.6\n",
    "    batter VARCHAR(255),                          -- Striker\n",
    "    bowler VARCHAR(255),                          -- Bowler\n",
    "    non_striker VARCHAR(255),                     -- Non-striker\n",
    "    runs_batter INT,                              -- Runs scored by batter\n",
    "    runs_extras INT,                              -- Extras (wides, legbyes, etc.)\n",
    "    runs_total INT,                               -- Total runs from that ball\n",
    "    wides INT,                                     -- Wide runs\n",
    "    noballs INT,                                   -- No-ball runs\n",
    "    byes INT,                                      -- Bye runs\n",
    "    legbyes INT,                                   -- Legbye runs\n",
    "    wicket_type VARCHAR(50),                      -- Type of wicket (caught, bowled, etc.)\n",
    "    player_dismissed VARCHAR(255),                -- Player who got out\n",
    "    `out` TINYINT                                  -- 1 if wicket fell, 0 otherwise\n",
    ")\n",
    "\"\"\"\n",
    "\n",
    "# Execute and commit the table creation\n",
    "mycursor.execute(create_table_query)\n",
    "mydb.commit()\n",
    "\n",
    "print(\"Table 'odi' created successfully with 27 columns.\")\n"
   ]
  },
  {
   "cell_type": "code",
   "execution_count": 6,
   "id": "57a5bc32",
   "metadata": {},
   "outputs": [
    {
     "name": "stdout",
     "output_type": "stream",
     "text": [
      "Starting insertion of 1297341 rows in batches of 5000...\n",
      "✅ Inserted batch 1 (5000 rows)\n",
      "✅ Inserted batch 2 (5000 rows)\n",
      "✅ Inserted batch 3 (5000 rows)\n",
      "✅ Inserted batch 4 (5000 rows)\n",
      "✅ Inserted batch 5 (5000 rows)\n",
      "✅ Inserted batch 6 (5000 rows)\n",
      "✅ Inserted batch 7 (5000 rows)\n",
      "✅ Inserted batch 8 (5000 rows)\n",
      "✅ Inserted batch 9 (5000 rows)\n",
      "✅ Inserted batch 10 (5000 rows)\n",
      "✅ Inserted batch 11 (5000 rows)\n",
      "✅ Inserted batch 12 (5000 rows)\n",
      "✅ Inserted batch 13 (5000 rows)\n",
      "✅ Inserted batch 14 (5000 rows)\n",
      "✅ Inserted batch 15 (5000 rows)\n",
      "✅ Inserted batch 16 (5000 rows)\n",
      "✅ Inserted batch 17 (5000 rows)\n",
      "✅ Inserted batch 18 (5000 rows)\n",
      "✅ Inserted batch 19 (5000 rows)\n",
      "✅ Inserted batch 20 (5000 rows)\n",
      "✅ Inserted batch 21 (5000 rows)\n",
      "✅ Inserted batch 22 (5000 rows)\n",
      "✅ Inserted batch 23 (5000 rows)\n",
      "✅ Inserted batch 24 (5000 rows)\n",
      "✅ Inserted batch 25 (5000 rows)\n",
      "✅ Inserted batch 26 (5000 rows)\n",
      "✅ Inserted batch 27 (5000 rows)\n",
      "✅ Inserted batch 28 (5000 rows)\n",
      "✅ Inserted batch 29 (5000 rows)\n",
      "✅ Inserted batch 30 (5000 rows)\n",
      "✅ Inserted batch 31 (5000 rows)\n",
      "✅ Inserted batch 32 (5000 rows)\n",
      "✅ Inserted batch 33 (5000 rows)\n",
      "✅ Inserted batch 34 (5000 rows)\n",
      "✅ Inserted batch 35 (5000 rows)\n",
      "✅ Inserted batch 36 (5000 rows)\n",
      "✅ Inserted batch 37 (5000 rows)\n",
      "✅ Inserted batch 38 (5000 rows)\n",
      "✅ Inserted batch 39 (5000 rows)\n",
      "✅ Inserted batch 40 (5000 rows)\n",
      "✅ Inserted batch 41 (5000 rows)\n",
      "✅ Inserted batch 42 (5000 rows)\n",
      "✅ Inserted batch 43 (5000 rows)\n",
      "✅ Inserted batch 44 (5000 rows)\n",
      "✅ Inserted batch 45 (5000 rows)\n",
      "✅ Inserted batch 46 (5000 rows)\n",
      "✅ Inserted batch 47 (5000 rows)\n",
      "✅ Inserted batch 48 (5000 rows)\n",
      "✅ Inserted batch 49 (5000 rows)\n",
      "✅ Inserted batch 50 (5000 rows)\n",
      "✅ Inserted batch 51 (5000 rows)\n",
      "✅ Inserted batch 52 (5000 rows)\n",
      "✅ Inserted batch 53 (5000 rows)\n",
      "✅ Inserted batch 54 (5000 rows)\n",
      "✅ Inserted batch 55 (5000 rows)\n",
      "✅ Inserted batch 56 (5000 rows)\n",
      "✅ Inserted batch 57 (5000 rows)\n",
      "✅ Inserted batch 58 (5000 rows)\n",
      "✅ Inserted batch 59 (5000 rows)\n",
      "✅ Inserted batch 60 (5000 rows)\n",
      "✅ Inserted batch 61 (5000 rows)\n",
      "✅ Inserted batch 62 (5000 rows)\n",
      "✅ Inserted batch 63 (5000 rows)\n",
      "✅ Inserted batch 64 (5000 rows)\n",
      "✅ Inserted batch 65 (5000 rows)\n",
      "✅ Inserted batch 66 (5000 rows)\n",
      "✅ Inserted batch 67 (5000 rows)\n",
      "✅ Inserted batch 68 (5000 rows)\n",
      "✅ Inserted batch 69 (5000 rows)\n",
      "✅ Inserted batch 70 (5000 rows)\n",
      "✅ Inserted batch 71 (5000 rows)\n",
      "✅ Inserted batch 72 (5000 rows)\n",
      "✅ Inserted batch 73 (5000 rows)\n",
      "✅ Inserted batch 74 (5000 rows)\n",
      "✅ Inserted batch 75 (5000 rows)\n",
      "✅ Inserted batch 76 (5000 rows)\n",
      "✅ Inserted batch 77 (5000 rows)\n",
      "✅ Inserted batch 78 (5000 rows)\n",
      "✅ Inserted batch 79 (5000 rows)\n",
      "✅ Inserted batch 80 (5000 rows)\n",
      "✅ Inserted batch 81 (5000 rows)\n",
      "✅ Inserted batch 82 (5000 rows)\n",
      "✅ Inserted batch 83 (5000 rows)\n",
      "✅ Inserted batch 84 (5000 rows)\n",
      "✅ Inserted batch 85 (5000 rows)\n",
      "✅ Inserted batch 86 (5000 rows)\n",
      "✅ Inserted batch 87 (5000 rows)\n",
      "✅ Inserted batch 88 (5000 rows)\n",
      "✅ Inserted batch 89 (5000 rows)\n",
      "✅ Inserted batch 90 (5000 rows)\n",
      "✅ Inserted batch 91 (5000 rows)\n",
      "✅ Inserted batch 92 (5000 rows)\n",
      "✅ Inserted batch 93 (5000 rows)\n",
      "✅ Inserted batch 94 (5000 rows)\n",
      "✅ Inserted batch 95 (5000 rows)\n",
      "✅ Inserted batch 96 (5000 rows)\n",
      "✅ Inserted batch 97 (5000 rows)\n",
      "✅ Inserted batch 98 (5000 rows)\n",
      "✅ Inserted batch 99 (5000 rows)\n",
      "✅ Inserted batch 100 (5000 rows)\n",
      "✅ Inserted batch 101 (5000 rows)\n",
      "✅ Inserted batch 102 (5000 rows)\n",
      "✅ Inserted batch 103 (5000 rows)\n",
      "✅ Inserted batch 104 (5000 rows)\n",
      "✅ Inserted batch 105 (5000 rows)\n",
      "✅ Inserted batch 106 (5000 rows)\n",
      "✅ Inserted batch 107 (5000 rows)\n",
      "✅ Inserted batch 108 (5000 rows)\n",
      "✅ Inserted batch 109 (5000 rows)\n",
      "✅ Inserted batch 110 (5000 rows)\n",
      "✅ Inserted batch 111 (5000 rows)\n",
      "✅ Inserted batch 112 (5000 rows)\n",
      "✅ Inserted batch 113 (5000 rows)\n",
      "✅ Inserted batch 114 (5000 rows)\n",
      "✅ Inserted batch 115 (5000 rows)\n",
      "✅ Inserted batch 116 (5000 rows)\n",
      "✅ Inserted batch 117 (5000 rows)\n",
      "✅ Inserted batch 118 (5000 rows)\n",
      "✅ Inserted batch 119 (5000 rows)\n",
      "✅ Inserted batch 120 (5000 rows)\n",
      "✅ Inserted batch 121 (5000 rows)\n",
      "✅ Inserted batch 122 (5000 rows)\n",
      "✅ Inserted batch 123 (5000 rows)\n",
      "✅ Inserted batch 124 (5000 rows)\n",
      "✅ Inserted batch 125 (5000 rows)\n",
      "✅ Inserted batch 126 (5000 rows)\n",
      "✅ Inserted batch 127 (5000 rows)\n",
      "✅ Inserted batch 128 (5000 rows)\n",
      "✅ Inserted batch 129 (5000 rows)\n",
      "✅ Inserted batch 130 (5000 rows)\n",
      "✅ Inserted batch 131 (5000 rows)\n",
      "✅ Inserted batch 132 (5000 rows)\n",
      "✅ Inserted batch 133 (5000 rows)\n",
      "✅ Inserted batch 134 (5000 rows)\n",
      "✅ Inserted batch 135 (5000 rows)\n",
      "✅ Inserted batch 136 (5000 rows)\n",
      "✅ Inserted batch 137 (5000 rows)\n",
      "✅ Inserted batch 138 (5000 rows)\n",
      "✅ Inserted batch 139 (5000 rows)\n",
      "✅ Inserted batch 140 (5000 rows)\n",
      "✅ Inserted batch 141 (5000 rows)\n",
      "✅ Inserted batch 142 (5000 rows)\n",
      "✅ Inserted batch 143 (5000 rows)\n",
      "✅ Inserted batch 144 (5000 rows)\n",
      "✅ Inserted batch 145 (5000 rows)\n",
      "✅ Inserted batch 146 (5000 rows)\n",
      "✅ Inserted batch 147 (5000 rows)\n",
      "✅ Inserted batch 148 (5000 rows)\n",
      "✅ Inserted batch 149 (5000 rows)\n",
      "✅ Inserted batch 150 (5000 rows)\n",
      "✅ Inserted batch 151 (5000 rows)\n",
      "✅ Inserted batch 152 (5000 rows)\n",
      "✅ Inserted batch 153 (5000 rows)\n",
      "✅ Inserted batch 154 (5000 rows)\n",
      "✅ Inserted batch 155 (5000 rows)\n",
      "✅ Inserted batch 156 (5000 rows)\n",
      "✅ Inserted batch 157 (5000 rows)\n",
      "✅ Inserted batch 158 (5000 rows)\n",
      "✅ Inserted batch 159 (5000 rows)\n",
      "✅ Inserted batch 160 (5000 rows)\n",
      "✅ Inserted batch 161 (5000 rows)\n",
      "✅ Inserted batch 162 (5000 rows)\n",
      "✅ Inserted batch 163 (5000 rows)\n",
      "✅ Inserted batch 164 (5000 rows)\n",
      "✅ Inserted batch 165 (5000 rows)\n",
      "✅ Inserted batch 166 (5000 rows)\n",
      "✅ Inserted batch 167 (5000 rows)\n",
      "✅ Inserted batch 168 (5000 rows)\n",
      "✅ Inserted batch 169 (5000 rows)\n",
      "✅ Inserted batch 170 (5000 rows)\n",
      "✅ Inserted batch 171 (5000 rows)\n",
      "✅ Inserted batch 172 (5000 rows)\n",
      "✅ Inserted batch 173 (5000 rows)\n",
      "✅ Inserted batch 174 (5000 rows)\n",
      "✅ Inserted batch 175 (5000 rows)\n",
      "✅ Inserted batch 176 (5000 rows)\n",
      "✅ Inserted batch 177 (5000 rows)\n",
      "✅ Inserted batch 178 (5000 rows)\n",
      "✅ Inserted batch 179 (5000 rows)\n",
      "✅ Inserted batch 180 (5000 rows)\n",
      "✅ Inserted batch 181 (5000 rows)\n",
      "✅ Inserted batch 182 (5000 rows)\n",
      "✅ Inserted batch 183 (5000 rows)\n",
      "✅ Inserted batch 184 (5000 rows)\n",
      "✅ Inserted batch 185 (5000 rows)\n",
      "✅ Inserted batch 186 (5000 rows)\n",
      "✅ Inserted batch 187 (5000 rows)\n",
      "✅ Inserted batch 188 (5000 rows)\n",
      "✅ Inserted batch 189 (5000 rows)\n",
      "✅ Inserted batch 190 (5000 rows)\n",
      "✅ Inserted batch 191 (5000 rows)\n",
      "✅ Inserted batch 192 (5000 rows)\n",
      "✅ Inserted batch 193 (5000 rows)\n",
      "✅ Inserted batch 194 (5000 rows)\n",
      "✅ Inserted batch 195 (5000 rows)\n",
      "✅ Inserted batch 196 (5000 rows)\n",
      "✅ Inserted batch 197 (5000 rows)\n",
      "✅ Inserted batch 198 (5000 rows)\n",
      "✅ Inserted batch 199 (5000 rows)\n",
      "✅ Inserted batch 200 (5000 rows)\n",
      "✅ Inserted batch 201 (5000 rows)\n",
      "✅ Inserted batch 202 (5000 rows)\n",
      "✅ Inserted batch 203 (5000 rows)\n",
      "✅ Inserted batch 204 (5000 rows)\n",
      "✅ Inserted batch 205 (5000 rows)\n",
      "✅ Inserted batch 206 (5000 rows)\n",
      "✅ Inserted batch 207 (5000 rows)\n",
      "✅ Inserted batch 208 (5000 rows)\n",
      "✅ Inserted batch 209 (5000 rows)\n",
      "✅ Inserted batch 210 (5000 rows)\n",
      "✅ Inserted batch 211 (5000 rows)\n",
      "✅ Inserted batch 212 (5000 rows)\n",
      "✅ Inserted batch 213 (5000 rows)\n",
      "✅ Inserted batch 214 (5000 rows)\n",
      "✅ Inserted batch 215 (5000 rows)\n",
      "✅ Inserted batch 216 (5000 rows)\n",
      "✅ Inserted batch 217 (5000 rows)\n",
      "✅ Inserted batch 218 (5000 rows)\n",
      "✅ Inserted batch 219 (5000 rows)\n",
      "✅ Inserted batch 220 (5000 rows)\n",
      "✅ Inserted batch 221 (5000 rows)\n",
      "✅ Inserted batch 222 (5000 rows)\n",
      "✅ Inserted batch 223 (5000 rows)\n",
      "✅ Inserted batch 224 (5000 rows)\n",
      "✅ Inserted batch 225 (5000 rows)\n",
      "✅ Inserted batch 226 (5000 rows)\n",
      "✅ Inserted batch 227 (5000 rows)\n",
      "✅ Inserted batch 228 (5000 rows)\n",
      "✅ Inserted batch 229 (5000 rows)\n",
      "✅ Inserted batch 230 (5000 rows)\n",
      "✅ Inserted batch 231 (5000 rows)\n",
      "✅ Inserted batch 232 (5000 rows)\n",
      "✅ Inserted batch 233 (5000 rows)\n",
      "✅ Inserted batch 234 (5000 rows)\n",
      "✅ Inserted batch 235 (5000 rows)\n",
      "✅ Inserted batch 236 (5000 rows)\n",
      "✅ Inserted batch 237 (5000 rows)\n",
      "✅ Inserted batch 238 (5000 rows)\n",
      "✅ Inserted batch 239 (5000 rows)\n",
      "✅ Inserted batch 240 (5000 rows)\n",
      "✅ Inserted batch 241 (5000 rows)\n",
      "✅ Inserted batch 242 (5000 rows)\n",
      "✅ Inserted batch 243 (5000 rows)\n",
      "✅ Inserted batch 244 (5000 rows)\n",
      "✅ Inserted batch 245 (5000 rows)\n",
      "✅ Inserted batch 246 (5000 rows)\n",
      "✅ Inserted batch 247 (5000 rows)\n",
      "✅ Inserted batch 248 (5000 rows)\n",
      "✅ Inserted batch 249 (5000 rows)\n",
      "✅ Inserted batch 250 (5000 rows)\n",
      "✅ Inserted batch 251 (5000 rows)\n",
      "✅ Inserted batch 252 (5000 rows)\n",
      "✅ Inserted batch 253 (5000 rows)\n",
      "✅ Inserted batch 254 (5000 rows)\n",
      "✅ Inserted batch 255 (5000 rows)\n",
      "✅ Inserted batch 256 (5000 rows)\n",
      "✅ Inserted batch 257 (5000 rows)\n",
      "✅ Inserted batch 258 (5000 rows)\n",
      "✅ Inserted batch 259 (5000 rows)\n",
      "✅ Inserted batch 260 (2341 rows)\n",
      "🎉 Data insertion completed successfully!\n"
     ]
    }
   ],
   "source": [
    "import pandas as pd\n",
    "import mysql.connector\n",
    "import numpy as np\n",
    "\n",
    "# ✅ Load the CSV\n",
    "csv_path = r\"C:\\Users\\MOHAMED RAZIK\\Desktop\\My_code\\Project2\\cricket_data_odi.csv\"\n",
    "df = pd.read_csv(csv_path)\n",
    "\n",
    "# ✅ Replace NaN (pandas) with None (Python native null) — needed for MySQL\n",
    "df = df.replace({np.nan: None})\n",
    "\n",
    "# ✅ Convert DataFrame to list of tuples\n",
    "data = [tuple(row) for row in df.itertuples(index=False, name=None)]\n",
    "\n",
    "# ✅ Connect to MySQL\n",
    "mydb = mysql.connector.connect(\n",
    "    host='localhost',\n",
    "    user='root',\n",
    "    password='Mysql@4321',\n",
    "    database='cricket_db'\n",
    ")\n",
    "mycursor = mydb.cursor()\n",
    "\n",
    "# ✅ INSERT query for all 26 columns (excluding auto-increment id)\n",
    "insert_query = \"\"\"\n",
    "INSERT INTO odi (\n",
    "    season, city, venue, date, event_name, match_type, result, player_of_match,\n",
    "    team, batting_team, bowling_team, `over`, ball, batter, bowler, non_striker,\n",
    "    runs_batter, runs_extras, runs_total, wides, noballs, byes, legbyes,\n",
    "    wicket_type, player_dismissed, `out`\n",
    ")\n",
    "VALUES (\n",
    "    %s, %s, %s, %s, %s, %s, %s, %s,\n",
    "    %s, %s, %s, %s, %s, %s, %s, %s,\n",
    "    %s, %s, %s, %s, %s, %s, %s,\n",
    "    %s, %s, %s\n",
    ")\n",
    "\"\"\"\n",
    "\n",
    "# ✅ Batch insert\n",
    "batch_size = 5000\n",
    "total_rows = len(data)\n",
    "print(f\"Starting insertion of {total_rows} rows in batches of {batch_size}...\")\n",
    "\n",
    "for i in range(0, total_rows, batch_size):\n",
    "    batch = data[i:i + batch_size]\n",
    "    try:\n",
    "        mycursor.executemany(insert_query, batch)\n",
    "        mydb.commit()\n",
    "        print(f\"✅ Inserted batch {i // batch_size + 1} ({len(batch)} rows)\")\n",
    "    except mysql.connector.Error as err:\n",
    "        print(f\"❌ Error in batch {i // batch_size + 1}: {err}\")\n",
    "        mydb.rollback()\n",
    "\n",
    "# ✅ Close connections\n",
    "mycursor.close()\n",
    "mydb.close()\n",
    "print(\"🎉 Data insertion completed successfully!\")\n"
   ]
  }
 ],
 "metadata": {
  "kernelspec": {
   "display_name": "env",
   "language": "python",
   "name": "python3"
  },
  "language_info": {
   "codemirror_mode": {
    "name": "ipython",
    "version": 3
   },
   "file_extension": ".py",
   "mimetype": "text/x-python",
   "name": "python",
   "nbconvert_exporter": "python",
   "pygments_lexer": "ipython3",
   "version": "3.12.10"
  }
 },
 "nbformat": 4,
 "nbformat_minor": 5
}
